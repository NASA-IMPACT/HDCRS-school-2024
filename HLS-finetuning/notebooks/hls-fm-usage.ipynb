{
 "cells": [
  {
   "cell_type": "raw",
   "id": "59faa4d4-cc8d-4019-951b-6713215dfada",
   "metadata": {},
   "source": [
    "---\n",
    "title: Example HLS inference\n",
    "description: This notebook demonstrates an example of inferencing on the fine-tuned HLS Foundation Model using HLS data in the cloud and allows users to explore and select regions of interest.\n",
    "execute:\n",
    "  freeze: true\n",
    "---"
   ]
  },
  {
   "cell_type": "markdown",
   "id": "c9cc09a3-37d5-4bdc-a2bf-1d953ef484be",
   "metadata": {},
   "source": [
    "We need to install the leafmap client for data visualization in the notebook.\n",
    "\n",
    "**Note:** This is set to run silently so you will not see an output when executing this cell. If you'd like to ensure the package downloads successfully remove the `--quiet` flag\n",
    "\n",
    "![HLS Training](../images/HLS-inference.png)"
   ]
  },
  {
   "cell_type": "code",
   "execution_count": 7,
   "id": "57a4d9bd",
   "metadata": {},
   "outputs": [],
   "source": [
    "! pip install ipyleaflet numpy --quiet\n",
    "\n",
    "# Restart kernel, and hard refresh the browser"
   ]
  },
  {
   "cell_type": "markdown",
   "id": "3aae63c0-c6b2-44df-a551-60679477aa08",
   "metadata": {},
   "source": [
    "Import the python libraries required for running the script"
   ]
  },
  {
   "cell_type": "code",
   "execution_count": 8,
   "id": "13cbdc8e-6488-43c9-b0cc-a3a45710f9ec",
   "metadata": {},
   "outputs": [],
   "source": [
    "import json\n",
    "import ipyleaflet\n",
    "import numpy as np"
   ]
  },
  {
   "cell_type": "markdown",
   "id": "d2763413-8197-49a6-bd74-cbe8d037dd7e",
   "metadata": {},
   "source": [
    "This is a dictionary contains several sample cases of burn scars across the globe. These configuration settings will automatically set the location of the map for AOI selection and the start_date and end_date to perform the data query."
   ]
  },
  {
   "cell_type": "code",
   "execution_count": 9,
   "id": "d120afc7-a8da-4f9d-b656-8c2d3c00b986",
   "metadata": {},
   "outputs": [],
   "source": [
    "#configure settings for selected events\n",
    "INFERENCE_URL = <Update INFERENCE URL from credentials website>\n",
    "\n",
    "EVENT_DETAILS = {\n",
    "    'mongolian_fire': {\n",
    "        'center_lon': 119.3,\n",
    "        'center_lat': 47.1,\n",
    "        'default_zoom': 8,\n",
    "        'start_date': '2022-04-19T00:00:00Z',\n",
    "        'end_date': '2022-04-19T23:59:59Z'\n",
    "    },\n",
    "    'new_mexico_black_fire': {\n",
    "        'center_lon': -107.5,\n",
    "        'center_lat': 33.5,\n",
    "        'default_zoom': 10,\n",
    "        'start_date': '2022-05-16T00:00:00Z',\n",
    "        'end_date': '2022-06-10T23:59:59Z'\n",
    "    },\n",
    "    'alberta_fire': {\n",
    "        'center_lon': -124.2,\n",
    "        'center_lat': 61.8,\n",
    "        'default_zoom': 8,\n",
    "        'start_date': '2023-05-27T00:00:00Z',\n",
    "        'end_date': '2023-05-28T23:59:59Z'\n",
    "    },\n",
    "    'maui_fire': {\n",
    "        'center_lon': -156.659394,\n",
    "        'center_lat': 20.886984,\n",
    "        'default_zoom': 12,\n",
    "        'start_date': '2023-08-13T00:00:00Z',\n",
    "        'end_date': '2023-08-13T23:59:59Z'\n",
    "    }\n",
    "}"
   ]
  },
  {
   "cell_type": "markdown",
   "id": "ccd5cffa-e1d2-4542-83cc-41dbec60cea0",
   "metadata": {},
   "source": [
    "Select the predefined event of your choice from above. If you'd like to execute a different event, the simplest way to implement it would be to add the event details as a new key in the dictionary"
   ]
  },
  {
   "cell_type": "code",
   "execution_count": 10,
   "id": "3544d648-b0a4-476d-a487-494671887fa9",
   "metadata": {},
   "outputs": [],
   "source": [
    "event = 'maui_fire'\n",
    "event_details = EVENT_DETAILS[event]"
   ]
  },
  {
   "cell_type": "code",
   "execution_count": 11,
   "id": "08cce302",
   "metadata": {},
   "outputs": [],
   "source": [
    "datestring = event_details['start_date']\n",
    "HLSL30_TILE_LAYER = 'https://gitc-a.earthdata.nasa.gov/wmts/epsg3857/best/wmts.cgi?TIME=' + datestring + '&layer=HLS_L30_Nadir_BRDF_Adjusted_Reflectance&style=default&tilematrixset=GoogleMapsCompatible_Level12&Service=WMTS&Request=GetTile&Version=1.0.0&Format=image%2Fpng&TileMatrix={z}&TileCol={x}&TileRow={y}'\n",
    "HLSS30_TILE_LAYER = 'https://gitc-a.earthdata.nasa.gov/wmts/epsg3857/best/wmts.cgi?TIME=' + datestring + '&layer=HLS_S30_Nadir_BRDF_Adjusted_Reflectance&style=default&tilematrixset=GoogleMapsCompatible_Level12&Service=WMTS&Request=GetTile&Version=1.0.0&Format=image%2Fpng&TileMatrix={z}&TileCol={x}&TileRow={y}'"
   ]
  },
  {
   "cell_type": "markdown",
   "id": "840fe82f-062d-43e5-a231-e675748b4e68",
   "metadata": {},
   "source": [
    "Initialize map with one of the canned examples listed above, and HLS XYZ Layers from NASA Worldview. If you would like execute a custom use case, please navigate to your desired AOI, draw a bounding box, and update the start_date and end_date in the prepare_items method"
   ]
  },
  {
   "cell_type": "code",
   "execution_count": 21,
   "id": "30e6afa1-3db5-4768-b5a4-37630ef8ddeb",
   "metadata": {},
   "outputs": [],
   "source": [
    "from ipyleaflet import Map, TileLayer, DrawControl, GeoJSON"
   ]
  },
  {
   "cell_type": "code",
   "execution_count": 32,
   "id": "afdbf07e-0ded-4ebb-9fa8-429ad67196cd",
   "metadata": {},
   "outputs": [
    {
     "data": {
      "application/vnd.jupyter.widget-view+json": {
       "model_id": "e805bdae4ed043f9b330cf3322f2b4ce",
       "version_major": 2,
       "version_minor": 0
      },
      "text/plain": [
       "Map(center=[20.886984, -156.659394], controls=(ZoomControl(options=['position', 'zoom_in_text', 'zoom_in_title…"
      ]
     },
     "execution_count": 32,
     "metadata": {},
     "output_type": "execute_result"
    }
   ],
   "source": [
    "layer = TileLayer(url=HLSL30_TILE_LAYER, attribution='NASA',name='HLSL30', opacity=1)\n",
    "draw_control = DrawControl()\n",
    "map = Map(\n",
    "        default_tiles=layer,\n",
    "        center=(event_details['center_lat'],\n",
    "        event_details['center_lon']), \n",
    "        zoom=event_details['default_zoom']\n",
    "    )\n",
    "\n",
    "draw_control.rectangle = {\n",
    "    \"shapeOptions\": {\n",
    "        \"fillColor\": \"#fca45d\",\n",
    "        \"color\": \"#fca45d\",\n",
    "        \"fillOpacity\": 0.3\n",
    "    }\n",
    "}\n",
    "hlsl30_tile_layer = TileLayer(url=HLSL30_TILE_LAYER, name='HLSL30', attribution='NASA')\n",
    "hlss30_tile_layer = TileLayer(url=HLSS30_TILE_LAYER, name='HLSL30', attribution='NASA')\n",
    "map.add_layer(hlsl30_tile_layer)\n",
    "map.add_layer(hlss30_tile_layer)\n",
    "\n",
    "map.add(draw_control)\n",
    "\n",
    "# Store drawn shapes\n",
    "drawn_shapes = []\n",
    "\n",
    "# Define a function to handle drawing events\n",
    "def handle_draw(self, action, geo_json):\n",
    "    if action == 'created':\n",
    "        drawn_shapes.append(geo_json)\n",
    "        print(\"Shape added.\")\n",
    "\n",
    "# Attach the drawing event handler to the drawing control\n",
    "draw_control.on_draw(handle_draw)\n",
    "# map.add(layer)\n",
    "map"
   ]
  },
  {
   "cell_type": "markdown",
   "id": "733cbfc7-d386-48d9-bfec-b9e6e08b5a52",
   "metadata": {},
   "source": [
    "This cell saves the bounding box drawn by the user.\n",
    "\n",
    "**WARNING:** if you skip the next step, the notebook will not find any HLS data as there will be no bounding box information."
   ]
  },
  {
   "cell_type": "markdown",
   "id": "144342f0-39a4-430c-be5f-99abc0159487",
   "metadata": {},
   "source": [
    "**WARNING:** if you skipped the previous step, the notebook will not find any HLS data as there will be no bounding box information."
   ]
  },
  {
   "cell_type": "code",
   "execution_count": 39,
   "id": "3567ec70",
   "metadata": {
    "tags": []
   },
   "outputs": [],
   "source": [
    "# Read the bounding box and print\n",
    "bbox = drawn_shapes[0]"
   ]
  },
  {
   "cell_type": "markdown",
   "id": "1baec04c",
   "metadata": {},
   "source": [
    "We will utilize the trained model, changed configuration file, and the date information to get a prediction on the selected region."
   ]
  },
  {
   "cell_type": "code",
   "execution_count": 42,
   "id": "a3ac87a0",
   "metadata": {},
   "outputs": [],
   "source": [
    "\n",
    "def bbox_from_geojson(bbox):\n",
    "    \"\"\"\n",
    "        Get the coordinates of bounding box from an extended notation to flat coordinate\n",
    "        notation\n",
    "    Args:\n",
    "        geojson: File path of geojson\n",
    "\n",
    "    Returns:\n",
    "        list: [left, down, right, top]\n",
    "    \"\"\"\n",
    "    coordinates = np.asarray(bbox['geometry']['coordinates'])\n",
    "    lats = coordinates[:, :, 1]\n",
    "    lons = coordinates[:, :, 0]\n",
    "    return [lons.min(), lats.min(), lons.max(), lats.max()]"
   ]
  },
  {
   "cell_type": "code",
   "execution_count": 43,
   "id": "99332388-866f-40df-9610-f7c194d256e1",
   "metadata": {},
   "outputs": [
    {
     "data": {
      "text/plain": [
       "[-156.633883, 20.83925, -156.633883, 20.83925]"
      ]
     },
     "execution_count": 43,
     "metadata": {},
     "output_type": "execute_result"
    }
   ],
   "source": [
    "# Convert geojson to flat bounding box representation.\n",
    "bbox = bbox_from_geojson(bbox)\n",
    "bbox"
   ]
  },
  {
   "cell_type": "markdown",
   "id": "1e331a5f",
   "metadata": {},
   "source": [
    "Note: `BUCKET_NAME`, and `identifier` are variables set in the previous notebook. Please copy paste those variables here for this step to run smoothly.\n"
   ]
  },
  {
   "cell_type": "code",
   "execution_count": null,
   "id": "b50e6416",
   "metadata": {},
   "outputs": [],
   "source": [
    "BUCKET_NAME = <Update>\n",
    "identifier = <Update> \n",
    "\n",
    "config_filename = 'configs/burn_scars_Prithvi_100M.py'\n",
    "new_config_filename = f\"configs/{identifier}-burn_scars_Prithvi_100M.py\"\n",
    "MODEL_NAME = f\"{identifier}-workshop.pth\""
   ]
  },
  {
   "cell_type": "code",
   "execution_count": null,
   "id": "dd84052b-281b-4a94-abbe-300092186226",
   "metadata": {},
   "outputs": [],
   "source": [
    "import requests\n",
    "import json\n",
    "\n",
    "# prepare payload\n",
    "\n",
    "payload = json.dumps({\n",
    "  \"config_path\": f\"s3://{BUCKET_NAME}/data/{new_config_filename}\",\n",
    "  \"model_path\": f\"s3://{BUCKET_NAME}/{MODEL_NAME}\",\n",
    "  \"model_type\": \"burn_scars\",\n",
    "  \"date\": event_details['start_date'].split('T')[0],\n",
    "  \"bounding_box\": bbox\n",
    "})\n",
    "\n",
    "headers = {\n",
    "  'Content-Type': 'application/json'\n",
    "}\n",
    "\n",
    "# Use deployed app to get inference on the selected date/location\n",
    "response = requests.request(\n",
    "      \"POST\", \n",
    "      f\"{INFERENCE_URL}/infer\", \n",
    "      headers=headers, \n",
    "      data=payload\n",
    "  )\n",
    "\n",
    "predictions = response.json()\n",
    "\n",
    "predictions"
   ]
  },
  {
   "cell_type": "code",
   "execution_count": null,
   "id": "e8943449",
   "metadata": {},
   "outputs": [],
   "source": [
    "geojson = predictions['predictions']\n",
    "\n",
    "detection_map = Map(\n",
    "        center=(event_details['center_lat'],\n",
    "        event_details['center_lon']), \n",
    "        zoom=event_details['default_zoom'], \n",
    "    )\n",
    "detection_map.add(hlsl30_tile_layer)\n",
    "detection_map.add(hlss30_tile_layer)\n",
    "detection_map.add(GeoJSON(data=geojson))\n",
    "\n",
    "detection_map"
   ]
  },
  {
   "cell_type": "code",
   "execution_count": null,
   "id": "ca70c6bc",
   "metadata": {},
   "outputs": [],
   "source": []
  }
 ],
 "metadata": {
  "kernelspec": {
   "display_name": "Python 3 (ipykernel)",
   "language": "python",
   "name": "python3"
  },
  "language_info": {
   "codemirror_mode": {
    "name": "ipython",
    "version": 3
   },
   "file_extension": ".py",
   "mimetype": "text/x-python",
   "name": "python",
   "nbconvert_exporter": "python",
   "pygments_lexer": "ipython3",
   "version": "3.9.12"
  },
  "vscode": {
   "interpreter": {
    "hash": "8987afb44532b2110e1a5e1b229dd281f8440b44477d285826a54acdd52d8797"
   }
  }
 },
 "nbformat": 4,
 "nbformat_minor": 5
}
