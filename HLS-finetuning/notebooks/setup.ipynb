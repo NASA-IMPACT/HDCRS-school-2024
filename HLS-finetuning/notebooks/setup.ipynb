{
 "cells": [
  {
   "cell_type": "markdown",
   "id": "f4d4f62d",
   "metadata": {},
   "source": [
    "#### Note: \n",
    "1. You will be working off of terminal for this chapter.\n",
    "2. Change your working directory: ```cd /p/project/training2411/$USER/```"
   ]
  },
  {
   "cell_type": "markdown",
   "id": "bc3b96b9-db5b-40fd-8422-43bbac01dda2",
   "metadata": {},
   "source": [
    "## Folder structure\n",
    "\n",
    "All of the project-related files are located at `/p/project/training2411/$USER/`. (User is the environment variable with your user name. You can check what it is set as using `echo $USER`)\n",
    "\n",
    "Change directory to the aforementioned directory.\n",
    "\n",
    "Check for `HDCRS-school-2024` folder in the directory. If it is not present, you can use Git to download it from https://github.com/nasa-impact/pixel-detector using `git clone https://github.com/nasa-impact/HDCRS-school-2024.git`\n",
    "\n",
    "Once cloned, change the directory to the pixel-detector folder using `cd HDCRS-school-2024`"
   ]
  },
  {
   "cell_type": "code",
   "execution_count": null,
   "id": "e56fe275",
   "metadata": {},
   "outputs": [],
   "source": [
    "git clone https://github.com/nasa-impact/HDCRS-school-2024.git\n",
    "cd HDCRS-school-2024"
   ]
  },
  {
   "cell_type": "markdown",
   "id": "d3ca1130-19c1-4bc4-bfbe-a1c1d087c09d",
   "metadata": {},
   "source": [
    "# Setup Virtual Environment and required folders using provided scripts\n",
    "You will be using Python and PyTorch for training. For this you need to create an environment you can use across nodes. Bash scripts are provided to setup the environment required for the training jobs.\n",
    "\n",
    "**Note: the following commands are to be run in a terminal shell.**\n",
    "\n",
    "# Prepare environment\n",
    "`cd /p/project/training2411/$USER/HDCRS-school-2024/`\n",
    "`. ./sc_venv_template/setup.sh`\n",
    "`. ./sc_venv_template/activate.sh`\n",
    "`. ./sc_venv_template/create_kernel.sh`\n",
    "\n",
    "## Training using high performance computing and TensorFlow\n",
    "1. Prepare virtual environments and modules required for training\n",
    "2. Folder structure and files you will be using\n",
    "3. Update configuration for training\n",
    "4. Update batch_job file.\n",
    "5. Submit job\n",
    "6. Check progress\n",
    "\n",
    "## Use cloud computing for inferencing\n",
    "1. Push trained model to AWS environment using boto3 (share credentials before this step)\n",
    "2. Deploy model and establish an API\n",
    "3. Interact with API endpoint to get inferences from the model"
   ]
  },
  {
   "cell_type": "markdown",
   "id": "b857057d-6d7c-4a6d-b283-875a8eee8efe",
   "metadata": {},
   "source": [
    "## Data preparation\n",
    "\n",
    "For the purposes of this hands-on, data prepared data will be downloaded from Huggingface. To use custom data, please follow the details shared in [this doc](https://docs.google.com/document/d/1ExBT7lYuS-AvSfkQz8BK22l1h8n5a5Ucx9cAjDti2eY/edit).\n",
    "\n",
    "If pre-processed data is desired, there are two options available:\n",
    "| Model | Data |\n",
    "|-------|------|\n",
    "|[Burn Scars model](https://huggingface.co/ibm-nasa-geospatial/Prithvi-100M-burn-scar)| [Burn Scars data](https://huggingface.co/datasets/ibm-nasa-geospatial/hls_burn_scars) |\n",
    "| [Multi-temporal Crop Classification](https://huggingface.co/ibm-nasa-geospatial/Prithvi-100M-multi-temporal-crop-classification) | [Multi-temporal Crop Classification](https://huggingface.co/datasets/ibm-nasa-geospatial/multi-temporal-crop-classification) |\n",
    "\n",
    "The base model is also available in [huggingface as Prithvi](https://huggingface.co/ibm-nasa-geospatial/Prithvi-100M).\n",
    "\n"
   ]
  }
 ],
 "metadata": {
  "kernelspec": {
   "display_name": "Python 3.9.12 ('base')",
   "language": "python",
   "name": "python3"
  },
  "language_info": {
   "codemirror_mode": {
    "name": "ipython",
    "version": 3
   },
   "file_extension": ".py",
   "mimetype": "text/x-python",
   "name": "python",
   "nbconvert_exporter": "python",
   "pygments_lexer": "ipython3",
   "version": "3.9.12"
  },
  "vscode": {
   "interpreter": {
    "hash": "8987afb44532b2110e1a5e1b229dd281f8440b44477d285826a54acdd52d8797"
   }
  }
 },
 "nbformat": 4,
 "nbformat_minor": 5
}
