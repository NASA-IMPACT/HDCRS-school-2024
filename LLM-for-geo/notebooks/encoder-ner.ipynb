{
 "cells": [
  {
   "cell_type": "code",
   "execution_count": 1,
   "id": "5c7ec18b-609b-41df-93cc-9642bae51d06",
   "metadata": {},
   "outputs": [
    {
     "name": "stdout",
     "output_type": "stream",
     "text": [
      "\u001b[33mWARNING: Ignoring invalid distribution -cipy (/p/project/training2411/kumar/miniconda/envs/peft/lib/python3.9/site-packages)\u001b[0m\u001b[33m\n",
      "\u001b[0mCollecting ast\n",
      "  Using cached AST-0.0.2.tar.gz (19 kB)\n",
      "  Preparing metadata (setup.py) ... \u001b[?25lerror\n",
      "  \u001b[1;31merror\u001b[0m: \u001b[1msubprocess-exited-with-error\u001b[0m\n",
      "  \n",
      "  \u001b[31m×\u001b[0m \u001b[32mpython setup.py egg_info\u001b[0m did not run successfully.\n",
      "  \u001b[31m│\u001b[0m exit code: \u001b[1;36m1\u001b[0m\n",
      "  \u001b[31m╰─>\u001b[0m \u001b[31m[8 lines of output]\u001b[0m\n",
      "  \u001b[31m   \u001b[0m Traceback (most recent call last):\n",
      "  \u001b[31m   \u001b[0m   File \"<string>\", line 2, in <module>\n",
      "  \u001b[31m   \u001b[0m   File \"<pip-setuptools-caller>\", line 34, in <module>\n",
      "  \u001b[31m   \u001b[0m   File \"/tmp/pip-install-73ue37d6/ast_2e66089896cb4a0f91e576d1914ebe6c/setup.py\", line 6, in <module>\n",
      "  \u001b[31m   \u001b[0m     README = codecs.open(os.path.join(here, 'AST/README'), encoding='utf8').read()\n",
      "  \u001b[31m   \u001b[0m   File \"/p/project/training2411/kumar/miniconda/envs/peft/lib/python3.9/codecs.py\", line 905, in open\n",
      "  \u001b[31m   \u001b[0m     file = builtins.open(filename, mode, buffering)\n",
      "  \u001b[31m   \u001b[0m FileNotFoundError: [Errno 2] No such file or directory: '/tmp/pip-install-73ue37d6/ast_2e66089896cb4a0f91e576d1914ebe6c/AST/README'\n",
      "  \u001b[31m   \u001b[0m \u001b[31m[end of output]\u001b[0m\n",
      "  \n",
      "  \u001b[1;35mnote\u001b[0m: This error originates from a subprocess, and is likely not a problem with pip.\n",
      "\u001b[1;31merror\u001b[0m: \u001b[1mmetadata-generation-failed\u001b[0m\n",
      "\n",
      "\u001b[31m×\u001b[0m Encountered error while generating package metadata.\n",
      "\u001b[31m╰─>\u001b[0m See above for output.\n",
      "\n",
      "\u001b[1;35mnote\u001b[0m: This is an issue with the package mentioned above, not pip.\n",
      "\u001b[1;36mhint\u001b[0m: See above for details.\n",
      "\u001b[?25h"
     ]
    }
   ],
   "source": [
    "# !pip install transformers datasets\n",
    "!pip install ast\n",
    "import os\n",
    "os.environ['TRANSFORMERS_CACHE'] = '/p/project/training2411/kumar/'\n",
    "os.environ['CUDA_VISIBLE_DEVICES'] = '0'\n",
    "os.environ['CUDA_LAUNCH_BLOCKING'] = '1'"
   ]
  },
  {
   "cell_type": "code",
   "execution_count": 2,
   "id": "c364c25f-dbaa-47d4-9eaf-d8d90ee29852",
   "metadata": {},
   "outputs": [
    {
     "data": {
      "text/plain": [
       "<function eval(source, globals=None, locals=None, /)>"
      ]
     },
     "execution_count": 2,
     "metadata": {},
     "output_type": "execute_result"
    }
   ],
   "source": [
    "eval"
   ]
  },
  {
   "cell_type": "code",
   "execution_count": 3,
   "id": "18f352e1-5476-4a1b-8ea3-fa8eef5973fe",
   "metadata": {},
   "outputs": [
    {
     "name": "stderr",
     "output_type": "stream",
     "text": [
      "/p/project/training2411/kumar/miniconda/envs/peft/lib/python3.9/site-packages/transformers/utils/hub.py:124: FutureWarning: Using `TRANSFORMERS_CACHE` is deprecated and will be removed in v5 of Transformers. Use `HF_HOME` instead.\n",
      "  warnings.warn(\n"
     ]
    }
   ],
   "source": [
    "import pandas as pd\n",
    "from datasets import Dataset, ClassLabel\n",
    "from transformers import RobertaTokenizerFast\n",
    "from transformers import DataCollatorForTokenClassification\n",
    "\n",
    "# Load the dataset\n",
    "df = pd.read_csv('ner_new.csv', converters={'tokens': eval, 'ner_tags': eval})\n",
    "data = Dataset.from_pandas(df)"
   ]
  },
  {
   "cell_type": "code",
   "execution_count": 9,
   "id": "31c87728-8801-4242-89d7-99bbc62cfd02",
   "metadata": {},
   "outputs": [
    {
     "data": {
      "text/plain": [
       "{'tokens': ['Satellite',\n",
       "  'images',\n",
       "  'of',\n",
       "  'burn',\n",
       "  'scars',\n",
       "  'in',\n",
       "  'Montana',\n",
       "  'from',\n",
       "  'August',\n",
       "  '14',\n",
       "  ',',\n",
       "  '2023',\n",
       "  '.'],\n",
       " 'ner_tags': ['O',\n",
       "  'O',\n",
       "  'O',\n",
       "  'O',\n",
       "  'O',\n",
       "  'O',\n",
       "  'LOCATION',\n",
       "  'O',\n",
       "  'DATE',\n",
       "  'DATE',\n",
       "  'O',\n",
       "  'DATE',\n",
       "  'O']}"
      ]
     },
     "execution_count": 9,
     "metadata": {},
     "output_type": "execute_result"
    }
   ],
   "source": [
    "data[4]"
   ]
  },
  {
   "cell_type": "code",
   "execution_count": 10,
   "id": "f9c757bd-702d-4b9b-b1b0-1247d452b124",
   "metadata": {},
   "outputs": [
    {
     "data": {
      "application/vnd.jupyter.widget-view+json": {
       "model_id": "c81f19c16f384ac9973380f3c61462c8",
       "version_major": 2,
       "version_minor": 0
      },
      "text/plain": [
       "Map:   0%|          | 0/99 [00:00<?, ? examples/s]"
      ]
     },
     "metadata": {},
     "output_type": "display_data"
    },
    {
     "data": {
      "application/vnd.jupyter.widget-view+json": {
       "model_id": "de75cd4561064c1f91e5572ea662f1d5",
       "version_major": 2,
       "version_minor": 0
      },
      "text/plain": [
       "Map:   0%|          | 0/99 [00:00<?, ? examples/s]"
      ]
     },
     "metadata": {},
     "output_type": "display_data"
    }
   ],
   "source": [
    "# Define unique labels\n",
    "unique_labels = ['O', 'DATE', 'LOCATION']  # add all your labels here\n",
    "label_dict = {label: i for i, label in enumerate(unique_labels)}\n",
    "\n",
    "# Update the dataset with encoded labels\n",
    "def encode_labels(examples):\n",
    "    try:\n",
    "        return {'ner_tags': [label_dict[label] for label in examples['ner_tags']]}\n",
    "    except:\n",
    "        return None\n",
    "\n",
    "data = data.map(encode_labels)\n",
    "\n",
    "def convert_list(input_list):\n",
    "    output_list = input_list\n",
    "    for i in range(2, len(output_list) - 1):\n",
    "        if output_list[i - 2] == 1 and output_list[i - 1] == 1 and output_list[i] == 0 and output_list[i + 1] == 1:\n",
    "            output_list[i] = 1\n",
    "            break\n",
    "    return output_list\n",
    "\n",
    "\n",
    "\n",
    "def consolidate_labels(dataset):\n",
    "    dataset[\"ner_tags\"] = convert_list(dataset[\"ner_tags\"])\n",
    "        \n",
    "    return dataset\n",
    "\n",
    "data = data.map(consolidate_labels)"
   ]
  },
  {
   "cell_type": "code",
   "execution_count": 11,
   "id": "c3862f15-2429-4eb5-9796-c2e87f61cfba",
   "metadata": {},
   "outputs": [
    {
     "name": "stdout",
     "output_type": "stream",
     "text": [
      "{'tokens': ['February', '8', ',', '2023', ':', 'Provide', 'satellite', 'imagery', 'of', 'flooding', 'in', 'Miami', '.'], 'ner_tags': [1, 1, 1, 1, 0, 0, 0, 0, 0, 0, 2, 2, 0]}\n",
      "{'tokens': ['Burn', 'scars', 'in', 'Oregon', ',', 'noted', 'on', 'April', '17', ',', '2023', '.'], 'ner_tags': [0, 0, 0, 2, 0, 0, 0, 1, 1, 1, 1, 0]}\n",
      "{'tokens': ['July', '25', ',', '2023', ':', 'Identify', 'crop', 'types', 'in', 'Northern', 'India', '.'], 'ner_tags': [1, 1, 1, 1, 0, 0, 0, 0, 0, 2, 2, 0]}\n",
      "{'tokens': ['Flooding', 'in', 'central', 'China', 'on', 'June', '30', ',', '2023', '.'], 'ner_tags': [0, 0, 0, 2, 0, 1, 1, 1, 1, 0]}\n",
      "{'tokens': ['Satellite', 'images', 'of', 'burn', 'scars', 'in', 'Montana', 'from', 'August', '14', ',', '2023', '.'], 'ner_tags': [0, 0, 0, 0, 0, 0, 2, 0, 1, 1, 1, 1, 0]}\n",
      "{'tokens': ['December', '5', ',', '2023', ':', 'Show', 'crop', 'types', 'in', 'Chile', '.'], 'ner_tags': [1, 1, 1, 1, 0, 0, 0, 0, 2, 0]}\n",
      "{'tokens': ['March', '22', ',', '2023', ',', 'highlight', 'flooding', 'events', 'in', 'southern', 'France', '.'], 'ner_tags': [1, 1, 1, 1, 0, 0, 0, 0, 0, 2, 2, 0]}\n",
      "{'tokens': ['On', 'November', '10', ',', '2023', ',', 'find', 'burn', 'scars', 'in', 'Victoria', ',', 'Australia', '.'], 'ner_tags': [0, 1, 1, 1, 1, 0, 0, 0, 0, 2, 0, 2, 0]}\n",
      "{'tokens': ['Crop', 'types', 'in', 'Ukraine', ',', 'recorded', 'on', 'September', '3', ',', '2023', '.'], 'ner_tags': [0, 0, 0, 2, 0, 0, 0, 1, 1, 1, 1, 0]}\n",
      "{'tokens': ['October', '27', ',', '2023', ':', 'Flooding', 'in', 'Cairo', ',', 'Egypt', '.'], 'ner_tags': [1, 1, 1, 1, 0, 0, 0, 2, 0, 2, 0]}\n",
      "{'tokens': ['January', '9', ',', '2023', ':', 'Display', 'burn', 'scars', 'in', 'the', 'Scottish', 'Highlands', '.'], 'ner_tags': [1, 1, 1, 1, 0, 0, 0, 0, 0, 2, 2, 0]}\n",
      "{'tokens': ['Crop', 'types', 'in', 'Kansas', 'as', 'of', 'February', '16', ',', '2023', '.'], 'ner_tags': [0, 0, 0, 2, 0, 0, 1, 1, 1, 1, 0]}\n",
      "{'tokens': ['Flooding', 'in', 'Bangladesh', 'on', 'March', '5', ',', '2023', '.'], 'ner_tags': [0, 0, 2, 0, 1, 1, 1, 1, 0]}\n",
      "{'tokens': ['April', '28', ',', '2023', ',', 'show', 'burn', 'scars', 'in', 'New', 'Mexico', '.'], 'ner_tags': [1, 1, 1, 1, 0, 0, 0, 0, 2, 2, 0]}\n",
      "{'tokens': ['May', '15', ',', '2023', ':', 'Crop', 'types', 'in', 'Brazil', '.'], 'ner_tags': [1, 1, 1, 1, 0, 0, 0, 0, 2, 0]}\n",
      "{'tokens': ['June', '11', ',', '2023', ':', 'Flooding', 'in', 'Houston', ',', 'Texas', '.'], 'ner_tags': [1, 1, 1, 1, 0, 0, 0, 2, 0, 2, 0]}\n",
      "{'tokens': ['September', '7', ',', '2023', ',', 'display', 'burn', 'scars', 'in', 'Arizona', '.'], 'ner_tags': [1, 1, 1, 1, 0, 0, 0, 0, 2, 0]}\n",
      "{'tokens': ['Crop', 'types', 'in', 'Egypt', 'observed', 'on', 'November', '2', ',', '2023', '.'], 'ner_tags': [0, 0, 0, 2, 0, 0, 1, 1, 1, 1, 0]}\n",
      "{'tokens': ['December', '18', ',', '2023', ':', 'Flooding', 'in', 'Venice', '.'], 'ner_tags': [1, 1, 1, 1, 0, 0, 0, 2, 0]}\n",
      "{'tokens': ['January', '22', ',', '2023', ':', 'Burn', 'scars', 'in', 'British', 'Columbia', '.'], 'ner_tags': [1, 1, 1, 1, 0, 0, 0, 2, 2, 0]}\n",
      "{'tokens': ['March', '19', ',', '2023', ':', 'Crop', 'types', 'in', 'Ethiopia', '.'], 'ner_tags': [1, 1, 1, 1, 0, 0, 0, 2, 0]}\n",
      "{'tokens': ['July', '14', ',', '2023', ',', 'flooding', 'in', 'Seoul', '.'], 'ner_tags': [1, 1, 1, 1, 0, 0, 0, 2, 0]}\n",
      "{'tokens': ['Burn', 'scars', 'in', 'the', 'Amazon', 'rainforest', 'on', 'August', '26', ',', '2023', '.'], 'ner_tags': [0, 0, 0, 0, 2, 0, 0, 1, 1, 1, 1, 0]}\n",
      "{'tokens': ['October', '13', ',', '2023', ',', 'show', 'crop', 'types', 'in', 'Italy', '.'], 'ner_tags': [1, 1, 1, 1, 0, 0, 0, 0, 2, 0]}\n",
      "{'tokens': ['Flooding', 'in', 'the', 'Netherlands', 'on', 'February', '21', ',', '2023', '.'], 'ner_tags': [0, 0, 0, 2, 0, 1, 1, 1, 1, 0]}\n",
      "{'tokens': ['On', 'April', '4', ',', '2023', ',', 'display', 'burn', 'scars', 'in', 'California', '.'], 'ner_tags': [0, 1, 1, 1, 1, 0, 0, 0, 0, 2, 0]}\n",
      "{'tokens': ['Crop', 'types', 'in', 'Morocco', 'as', 'of', 'May', '28', ',', '2023', '.'], 'ner_tags': [0, 0, 0, 2, 0, 0, 1, 1, 1, 1, 0]}\n",
      "{'tokens': ['Flooding', 'in', 'São', 'Paulo', 'on', 'June', '19', ',', '2023', '.'], 'ner_tags': [0, 0, 2, 2, 0, 1, 1, 1, 1, 0]}\n",
      "{'tokens': ['Satellite', 'imagery', 'of', 'burn', 'scars', 'in', 'Utah', 'from', 'September', '9', ',', '2023', '.'], 'ner_tags': [0, 0, 0, 0, 0, 0, 2, 0, 1, 1, 1, 1, 0]}\n",
      "{'tokens': ['November', '23', ',', '2023', ':', 'Crop', 'types', 'in', 'Vietnam', '.'], 'ner_tags': [1, 1, 1, 1, 0, 0, 0, 0, 2, 0]}\n",
      "{'tokens': ['December', '3', ',', '2023', ',', 'highlight', 'flooding', 'events', 'in', 'Manila', '.'], 'ner_tags': [1, 1, 1, 1, 0, 0, 0, 0, 0, 2, 0]}\n",
      "{'tokens': ['January', '31', ',', '2023', ':', 'Burn', 'scars', 'in', 'Nevada', '.'], 'ner_tags': [1, 1, 1, 1, 0, 0, 0, 2, 0]}\n",
      "{'tokens': ['Crop', 'types', 'in', 'Poland', ',', 'noted', 'on', 'March', '24', ',', '2023', '.'], 'ner_tags': [0, 0, 0, 2, 0, 0, 0, 1, 1, 1, 1, 0]}\n",
      "{'tokens': ['Flooding', 'in', 'Malaysia', 'on', 'July', '8', ',', '2023', '.'], 'ner_tags': [0, 0, 2, 0, 1, 1, 1, 1, 0]}\n",
      "{'tokens': ['Satellite', 'images', 'of', 'burn', 'scars', 'from', 'Siberia', 'on', 'August', '17', ',', '2023', '.'], 'ner_tags': [0, 0, 0, 0, 0, 0, 2, 0, 1, 1, 1, 1, 0]}\n",
      "{'tokens': ['Crop', 'types', 'in', 'Turkey', 'as', 'of', 'October', '6', ',', '2023', '.'], 'ner_tags': [0, 0, 0, 2, 0, 0, 1, 1, 1, 1, 0]}\n",
      "{'tokens': ['November', '27', ',', '2023', ':', 'Flooding', 'in', 'London', '.'], 'ner_tags': [1, 1, 1, 1, 0, 0, 0, 2, 0]}\n",
      "{'tokens': ['January', '16', ',', '2023', ',', 'show', 'burn', 'scars', 'in', 'Tasmania', '.'], 'ner_tags': [1, 1, 1, 1, 0, 0, 0, 0, 2, 0]}\n",
      "{'tokens': ['Crop', 'types', 'in', 'Greece', 'observed', 'on', 'February', '25', ',', '2023', '.'], 'ner_tags': [0, 0, 0, 2, 0, 0, 1, 1, 1, 1, 0]}\n",
      "{'tokens': ['On', 'March', '10', ',', '2023', ',', 'find', 'flooding', 'events', 'in', 'New', 'Orleans', '.'], 'ner_tags': [0, 1, 1, 1, 1, 0, 0, 0, 0, 0, 2, 2, 0]}\n",
      "{'tokens': ['April', '20', ',', '2023', ':', 'Burn', 'scars', 'in', 'Portugal', '.'], 'ner_tags': [1, 1, 1, 1, 0, 0, 0, 2, 0]}\n",
      "{'tokens': ['Crop', 'types', 'in', 'South', 'Africa', 'from', 'May', '22', ',', '2023', '.'], 'ner_tags': [0, 0, 0, 2, 2, 0, 1, 1, 1, 1, 0]}\n",
      "{'tokens': ['Flooding', 'in', 'the', 'Philippines', 'on', 'June', '28', ',', '2023', '.'], 'ner_tags': [0, 0, 0, 2, 0, 1, 1, 1, 1, 0]}\n",
      "{'tokens': ['July', '12', ',', '2023', ',', 'display', 'burn', 'scars', 'in', 'South', 'Dakota', '.'], 'ner_tags': [1, 1, 1, 1, 0, 0, 0, 0, 2, 2, 0]}\n",
      "{'tokens': ['Crop', 'types', 'in', 'Argentina', 'as', 'of', 'September', '15', ',', '2023', '.'], 'ner_tags': [0, 0, 0, 2, 0, 0, 1, 1, 1, 1, 0]}\n",
      "{'tokens': ['October', '31', ',', '2023', ':', 'Flooding', 'in', 'Berlin', '.'], 'ner_tags': [1, 1, 1, 1, 0, 0, 0, 2, 0]}\n",
      "{'tokens': ['Satellite', 'imagery', 'of', 'burn', 'scars', 'in', 'New', 'Zealand', 'from', 'December', '9', ',', '2023', '.'], 'ner_tags': [0, 0, 0, 0, 0, 0, 2, 2, 0, 1, 1, 1, 1, 0]}\n",
      "{'tokens': ['January', '4', ',', '2023', ':', 'Crop', 'types', 'in', 'Japan', '.'], 'ner_tags': [1, 1, 1, 1, 0, 0, 0, 2, 0]}\n",
      "{'tokens': ['March', '6', ',', '2023', ',', 'show', 'flooding', 'in', 'Alabama', '.'], 'ner_tags': [1, 1, 1, 1, 0, 0, 0, 0, 2, 0]}\n",
      "{'tokens': ['April', '29', ',', '2023', ':', 'Burn', 'scars', 'in', 'the', 'Sahel', 'region', '.'], 'ner_tags': [1, 1, 1, 1, 0, 0, 0, 0, 2, 0]}\n",
      "{'tokens': ['Crop', 'types', 'in', 'Belgium', 'noted', 'on', 'May', '24', ',', '2023', '.'], 'ner_tags': [0, 0, 0, 2, 0, 0, 1, 1, 1, 1, 0]}\n",
      "{'tokens': ['Flooding', 'in', 'South', 'Korea', 'on', 'June', '15', ',', '2023', '.'], 'ner_tags': [0, 0, 2, 2, 0, 1, 1, 1, 1, 0]}\n",
      "{'tokens': ['Burn', 'scars', 'in', 'Alaska', 'from', 'July', '21', ',', '2023', '.'], 'ner_tags': [0, 0, 0, 2, 0, 1, 1, 1, 1, 0]}\n",
      "{'tokens': ['Crop', 'types', 'in', 'Romania', 'as', 'of', 'August', '30', ',', '2023', '.'], 'ner_tags': [0, 0, 0, 2, 0, 0, 1, 1, 1, 1, 0]}\n",
      "{'tokens': ['September', '20', ',', '2023', ':', 'Flooding', 'in', 'Lima', ',', 'Peru', '.'], 'ner_tags': [1, 1, 1, 1, 0, 0, 0, 2, 0, 2, 0]}\n",
      "{'tokens': ['November', '5', ',', '2023', ',', 'display', 'burn', 'scars', 'in', 'the', 'Pyrenees', '.'], 'ner_tags': [1, 1, 1, 1, 0, 0, 0, 0, 0, 2, 0]}\n",
      "{'tokens': ['On', 'January', '15', ',', '2023', ',', 'display', 'the', 'flooding', 'events', 'in', 'Jakarta', '.'], 'ner_tags': [0, 1, 1, 1, 1, 0, 0, 0, 0, 0, 0, 2, 0]}\n",
      "{'tokens': ['Show', 'images', 'of', 'burn', 'scars', 'in', 'the', 'Colorado', 'Rockies', 'from', 'March', '12', ',', '2023', '.'], 'ner_tags': [0, 0, 0, 0, 0, 0, 2, 2, 0, 1, 1, 1, 1, 0]}\n",
      "{'tokens': ['Crop', 'types', 'in', 'Sudan', 'as', 'observed', 'on', 'May', '20', ',', '2023', '.'], 'ner_tags': [0, 0, 0, 2, 0, 0, 0, 1, 1, 1, 1, 0]}\n",
      "{'tokens': ['February', '8', ',', '2023', ':', 'Provide', 'satellite', 'imagery', 'of', 'flooding', 'in', 'Miami', '.'], 'ner_tags': [1, 1, 1, 1, 0, 0, 0, 0, 0, 0, 2, 2, 0]}\n",
      "{'tokens': ['Burn', 'scars', 'in', 'Oregon', ',', 'noted', 'on', 'April', '17', ',', '2023', '.'], 'ner_tags': [0, 0, 0, 2, 0, 0, 0, 1, 1, 1, 1, 0]}\n",
      "{'tokens': ['July', '25', ',', '2023', ':', 'Identify', 'crop', 'types', 'in', 'Northern', 'India', '.'], 'ner_tags': [1, 1, 1, 1, 0, 0, 0, 0, 0, 2, 2, 0]}\n",
      "{'tokens': ['Flooding', 'in', 'central', 'China', 'on', 'June', '30', ',', '2023', '.'], 'ner_tags': [0, 0, 0, 2, 0, 1, 1, 1, 1, 0]}\n",
      "{'tokens': ['Satellite', 'images', 'of', 'burn', 'scars', 'in', 'Montana', 'from', 'August', '14', ',', '2023', '.'], 'ner_tags': [0, 0, 0, 0, 0, 0, 2, 0, 1, 1, 1, 1, 0]}\n",
      "{'tokens': ['December', '5', ',', '2023', ':', 'Show', 'crop', 'types', 'in', 'Chile', '.'], 'ner_tags': [1, 1, 1, 1, 0, 0, 0, 0, 2, 0]}\n",
      "{'tokens': ['March', '22', ',', '2023', ',', 'highlight', 'flooding', 'events', 'in', 'southern', 'France', '.'], 'ner_tags': [1, 1, 1, 1, 0, 0, 0, 0, 0, 2, 2, 0]}\n",
      "{'tokens': ['On', 'November', '10', ',', '2023', ',', 'find', 'burn', 'scars', 'in', 'Victoria', ',', 'Australia', '.'], 'ner_tags': [0, 1, 1, 1, 1, 0, 0, 0, 0, 2, 0, 2, 0]}\n",
      "{'tokens': ['Crop', 'types', 'in', 'Ukraine', ',', 'recorded', 'on', 'September', '3', ',', '2023', '.'], 'ner_tags': [0, 0, 0, 2, 0, 0, 0, 1, 1, 1, 1, 0]}\n",
      "{'tokens': ['October', '27', ',', '2023', ':', 'Flooding', 'in', 'Cairo', ',', 'Egypt', '.'], 'ner_tags': [1, 1, 1, 1, 0, 0, 0, 2, 0, 2, 0]}\n",
      "{'tokens': ['January', '9', ',', '2023', ':', 'Display', 'burn', 'scars', 'in', 'the', 'Scottish', 'Highlands', '.'], 'ner_tags': [1, 1, 1, 1, 0, 0, 0, 0, 0, 2, 2, 0]}\n",
      "{'tokens': ['Crop', 'types', 'in', 'Kansas', 'as', 'of', 'February', '16', ',', '2023', '.'], 'ner_tags': [0, 0, 0, 2, 0, 0, 1, 1, 1, 1, 0]}\n",
      "{'tokens': ['Flooding', 'in', 'Bangladesh', 'on', 'March', '5', ',', '2023', '.'], 'ner_tags': [0, 0, 2, 0, 1, 1, 1, 1, 0]}\n",
      "{'tokens': ['April', '28', ',', '2023', ',', 'show', 'burn', 'scars', 'in', 'New', 'Mexico', '.'], 'ner_tags': [1, 1, 1, 1, 0, 0, 0, 0, 2, 2, 0]}\n",
      "{'tokens': ['May', '15', ',', '2023', ':', 'Crop', 'types', 'in', 'Brazil', '.'], 'ner_tags': [1, 1, 1, 1, 0, 0, 0, 0, 2, 0]}\n",
      "{'tokens': ['June', '11', ',', '2023', ':', 'Flooding', 'in', 'Houston', ',', 'Texas', '.'], 'ner_tags': [1, 1, 1, 1, 0, 0, 0, 2, 0, 2, 0]}\n",
      "{'tokens': ['September', '7', ',', '2023', ',', 'display', 'burn', 'scars', 'in', 'Arizona', '.'], 'ner_tags': [1, 1, 1, 1, 0, 0, 0, 0, 2, 0]}\n",
      "{'tokens': ['Provide', 'the', 'latest', 'imagery', 'of', 'flooding', 'in', 'Houston', ',', 'Texas', ',', 'from', 'this', 'past', 'Tuesday', '.'], 'ner_tags': [0, 0, 0, 0, 0, 0, 0, 2, 0, 2, 0, 0, 0, 0, 1, 0]}\n",
      "{'tokens': ['Display', 'satellite', 'images', 'of', 'burn', 'scars', 'in', 'the', 'Alps', 'as', 'of', 'June', '2024', '.'], 'ner_tags': [0, 0, 0, 0, 0, 0, 0, 2, 0, 0, 0, 1, 1, 0]}\n",
      "{'tokens': ['Can', 'you', 'show', 'crop', 'types', 'in', 'Vietnam', 'observed', 'last', 'Friday', '?'], 'ner_tags': [0, 0, 0, 0, 0, 0, 2, 0, 1, 1, 0]}\n",
      "{'tokens': ['Highlight', 'recent', 'flooding', 'events', 'in', 'the', 'UK', 'from', 'this', 'past', 'Spring', '.'], 'ner_tags': [0, 0, 0, 0, 0, 0, 2, 0, 0, 0, 1, 0]}\n",
      "{'tokens': ['Show', 'images', 'of', 'burn', 'scars', 'in', 'Utah', 'as', 'of', 'the', 'first', 'week', 'of', 'May', '2024', '.'], 'ner_tags': [0, 0, 0, 0, 0, 0, 2, 0, 0, 0, 0, 0, 1, 1, 0]}\n",
      "{'tokens': ['Find', 'current', 'crop', 'types', 'in', 'Poland', 'as', 'observed', 'today', '.'], 'ner_tags': [0, 0, 0, 0, 0, 0, 2, 0, 0, 1, 0]}\n",
      "{'tokens': ['Display', 'the', 'latest', 'flooding', 'events', 'in', 'Toronto', ',', 'Canada', ',', 'from', 'last', 'month', '.'], 'ner_tags': [0, 0, 0, 0, 0, 0, 2, 0, 2, 0, 0, 0, 1, 1, 0]}\n",
      "{'tokens': ['Show', 'satellite', 'imagery', 'of', 'burn', 'scars', 'in', 'Morocco', 'from', 'this', 'year', '.'], 'ner_tags': [0, 0, 0, 0, 0, 0, 2, 0, 0, 1, 0]}\n",
      "{'tokens': ['Can', 'you', 'find', 'crop', 'types', 'in', 'Kansas', 'as', 'of', 'the', 'last', '30', 'days', '?'], 'ner_tags': [0, 0, 0, 0, 0, 0, 2, 0, 0, 0, 0, 1, 1, 0]}\n",
      "{'tokens': ['Provide', 'images', 'of', 'recent', 'flooding', 'in', 'Cairo', ',', 'Egypt', ',', 'from', 'the', 'past', 'week', '.'], 'ner_tags': [0, 0, 0, 0, 0, 0, 2, 0, 2, 0, 0, 0, 0, 1, 1, 0]}\n",
      "{'tokens': ['Highlight', 'burn', 'scars', 'in', 'Tasmania', 'as', 'observed', 'last', 'Monday', '.'], 'ner_tags': [0, 0, 0, 0, 2, 0, 0, 0, 1, 0]}\n",
      "{'tokens': ['Display', 'the', 'most', 'recent', 'crop', 'types', 'in', 'Germany', 'from', 'this', 'Wednesday', '.'], 'ner_tags': [0, 0, 0, 0, 0, 0, 2, 0, 0, 1, 0]}\n",
      "{'tokens': ['Show', 'recent', 'flooding', 'in', 'Miami', ',', 'Florida', ',', 'as', 'of', 'this', 'April', '.'], 'ner_tags': [0, 0, 0, 0, 2, 0, 2, 0, 0, 0, 0, 1, 1, 0]}\n",
      "{'tokens': ['Find', 'burn', 'scars', 'in', 'the', 'Kalahari', 'Desert', 'from', 'the', 'past', 'three', 'months', '.'], 'ner_tags': [0, 0, 0, 0, 2, 2, 0, 0, 0, 1, 1, 0]}\n",
      "{'tokens': ['Can', 'you', 'show', 'crop', 'types', 'in', 'the', 'Netherlands', 'observed', 'last', 'weekend', '?'], 'ner_tags': [0, 0, 0, 0, 0, 0, 2, 0, 1, 1, 0]}\n",
      "{'tokens': ['Highlight', 'flooding', 'events', 'in', 'Lima', ',', 'Peru', ',', 'from', 'this', 'Spring', '.'], 'ner_tags': [0, 0, 0, 0, 2, 0, 2, 0, 0, 0, 1, 0]}\n",
      "{'tokens': ['Display', 'current', 'burn', 'scars', 'in', 'South', 'Dakota', 'as', 'of', 'today', '.'], 'ner_tags': [0, 0, 0, 0, 2, 2, 0, 0, 1, 0]}\n",
      "{'tokens': ['Show', 'the', 'most', 'recent', 'crop', 'types', 'in', 'Turkey', 'from', 'last', 'Tuesday', '.'], 'ner_tags': [0, 0, 0, 0, 0, 0, 2, 0, 0, 1, 0]}\n",
      "{'tokens': ['Provide', 'satellite', 'images', 'of', 'flooding', 'in', 'Seoul', ',', 'South', 'Korea', ',', 'from', 'this', 'month', '.'], 'ner_tags': [0, 0, 0, 0, 0, 0, 2, 0, 2, 2, 0, 0, 0, 1, 0]}\n",
      "{'tokens': ['Find', 'burn', 'scars', 'in', 'the', 'Andes', 'Mountains', 'from', 'last', 'season', '.'], 'ner_tags': [0, 0, 0, 0, 2, 2, 0, 0, 1, 0]}\n",
      "{'tokens': ['Display', 'the', 'latest', 'crop', 'types', 'in', 'Israel', 'observed', 'this', 'Friday', '.'], 'ner_tags': [0, 0, 0, 0, 0, 0, 2, 0, 0, 1, 0]}\n",
      "{'tokens': ['Show', 'recent', 'flooding', 'events', 'in', 'Sao', 'Paulo', ',', 'Brazil', ',', 'from', 'two', 'weeks', 'ago', '.'], 'ner_tags': [0, 0, 0, 0, 2, 2, 0, 2, 0, 0, 0, 1, 1, 0]}\n",
      "{'tokens': ['Highlight', 'burn', 'scars', 'in', 'Montana', 'from', 'May', '2024', '.'], 'ner_tags': [0, 0, 0, 0, 2, 0, 1, 1, 0]}\n"
     ]
    }
   ],
   "source": [
    "for i, item in enumerate(data):\n",
    "    print(item)\n",
    "        "
   ]
  },
  {
   "cell_type": "code",
   "execution_count": 12,
   "id": "1cf82ddf-d6ee-43ba-9be7-ba69c56c77de",
   "metadata": {
    "scrolled": true
   },
   "outputs": [
    {
     "name": "stderr",
     "output_type": "stream",
     "text": [
      "/p/project/training2411/kumar/miniconda/envs/peft/lib/python3.9/site-packages/huggingface_hub/file_download.py:1132: FutureWarning: `resume_download` is deprecated and will be removed in version 1.0.0. Downloads always resume when possible. If you want to force a new download, use `force_download=True`.\n",
      "  warnings.warn(\n"
     ]
    },
    {
     "data": {
      "application/vnd.jupyter.widget-view+json": {
       "model_id": "5640bf195c3241b6b21e386b0c431a71",
       "version_major": 2,
       "version_minor": 0
      },
      "text/plain": [
       "Map:   0%|          | 0/99 [00:00<?, ? examples/s]"
      ]
     },
     "metadata": {},
     "output_type": "display_data"
    },
    {
     "name": "stdout",
     "output_type": "stream",
     "text": [
      "[1, 1, 1, 1, 0, 0, 0, 0, 0, 0, 2, 2, 0] [None, 0, 1, 2, 3, 3, 4, 5, 6, 7, 8, 9, 10, 11, 12, None]\n",
      "[0, 0, 0, 2, 0, 0, 0, 1, 1, 1, 1, 0] [None, 0, 1, 2, 3, 4, 5, 6, 7, 8, 9, 10, 10, 11, None]\n",
      "[1, 1, 1, 1, 0, 0, 0, 0, 0, 2, 2, 0] [None, 0, 1, 2, 3, 3, 4, 5, 5, 6, 7, 8, 9, 10, 11, None]\n",
      "[0, 0, 0, 2, 0, 1, 1, 1, 1, 0] [None, 0, 0, 1, 2, 3, 4, 5, 6, 7, 8, 8, 9, None]\n",
      "[0, 0, 0, 0, 0, 0, 2, 0, 1, 1, 1, 1, 0] [None, 0, 1, 2, 3, 4, 5, 6, 7, 8, 9, 10, 11, 11, 12, None]\n",
      "[1, 1, 1, 1, 0, 0, 0, 0, 2, 0] [None, 0, 1, 2, 3, 3, 4, 5, 6, 7, 8, 9, 10, None]\n",
      "Error in 10\n",
      "list index out of range\n",
      "[1, 1, 1, 1, 0, 0, 0, 0, 2, 0]\n",
      "[1, 1, 1, 1, 0, 0, 0, 0, 0, 2, 2, 0] [None, 0, 1, 2, 3, 3, 4, 5, 6, 7, 8, 9, 10, 11, None]\n",
      "[0, 1, 1, 1, 1, 0, 0, 0, 0, 2, 0, 2, 0] [None, 0, 1, 2, 3, 4, 4, 5, 6, 7, 8, 9, 10, 11, 12, 13, None]\n",
      "Error in 13\n",
      "list index out of range\n",
      "[0, 1, 1, 1, 1, 0, 0, 0, 0, 2, 0, 2, 0]\n",
      "[0, 0, 0, 2, 0, 0, 0, 1, 1, 1, 1, 0] [None, 0, 0, 1, 2, 3, 4, 5, 6, 7, 8, 9, 10, 10, 11, None]\n",
      "[1, 1, 1, 1, 0, 0, 0, 2, 0, 2, 0] [None, 0, 1, 2, 3, 3, 4, 5, 5, 6, 7, 8, 9, 10, None]\n",
      "[1, 1, 1, 1, 0, 0, 0, 0, 0, 2, 2, 0] [None, 0, 1, 2, 3, 3, 4, 5, 6, 7, 8, 9, 10, 11, 12, None]\n",
      "Error in 12\n",
      "list index out of range\n",
      "[1, 1, 1, 1, 0, 0, 0, 0, 0, 2, 2, 0]\n",
      "[0, 0, 0, 2, 0, 0, 1, 1, 1, 1, 0] [None, 0, 0, 1, 2, 3, 4, 5, 6, 7, 8, 9, 9, 10, None]\n",
      "[0, 0, 2, 0, 1, 1, 1, 1, 0] [None, 0, 0, 1, 2, 3, 4, 5, 6, 7, 7, 8, None]\n",
      "[1, 1, 1, 1, 0, 0, 0, 0, 2, 2, 0] [None, 0, 1, 2, 3, 3, 4, 5, 6, 7, 8, 9, 10, 11, None]\n",
      "Error in 11\n",
      "list index out of range\n",
      "[1, 1, 1, 1, 0, 0, 0, 0, 2, 2, 0]\n",
      "[1, 1, 1, 1, 0, 0, 0, 0, 2, 0] [None, 0, 1, 2, 3, 3, 4, 5, 5, 6, 7, 8, 9, None]\n",
      "[1, 1, 1, 1, 0, 0, 0, 2, 0, 2, 0] [None, 0, 1, 2, 3, 3, 4, 5, 5, 6, 7, 8, 9, 10, None]\n",
      "[1, 1, 1, 1, 0, 0, 0, 0, 2, 0] [None, 0, 1, 2, 3, 3, 4, 5, 6, 7, 8, 9, 10, None]\n",
      "Error in 10\n",
      "list index out of range\n",
      "[1, 1, 1, 1, 0, 0, 0, 0, 2, 0]\n",
      "[0, 0, 0, 2, 0, 0, 1, 1, 1, 1, 0] [None, 0, 0, 1, 2, 3, 4, 5, 6, 7, 8, 9, 9, 10, None]\n",
      "[1, 1, 1, 1, 0, 0, 0, 2, 0] [None, 0, 1, 2, 3, 3, 4, 5, 5, 6, 7, 8, None]\n",
      "[1, 1, 1, 1, 0, 0, 0, 2, 2, 0] [None, 0, 1, 2, 3, 3, 4, 5, 6, 7, 8, 9, 10, None]\n",
      "Error in 10\n",
      "list index out of range\n",
      "[1, 1, 1, 1, 0, 0, 0, 2, 2, 0]\n",
      "[1, 1, 1, 1, 0, 0, 0, 2, 0] [None, 0, 1, 2, 3, 3, 4, 5, 5, 6, 7, 8, 9, None]\n",
      "Error in 9\n",
      "list index out of range\n",
      "[1, 1, 1, 1, 0, 0, 0, 2, 0]\n",
      "[1, 1, 1, 1, 0, 0, 0, 2, 0] [None, 0, 1, 2, 3, 3, 4, 5, 6, 7, 8, None]\n",
      "[0, 0, 0, 0, 2, 0, 0, 1, 1, 1, 1, 0] [None, 0, 1, 2, 3, 4, 5, 5, 6, 7, 8, 9, 10, 10, 11, None]\n",
      "[1, 1, 1, 1, 0, 0, 0, 0, 2, 0] [None, 0, 1, 2, 3, 3, 4, 5, 6, 7, 8, 9, 10, None]\n",
      "Error in 10\n",
      "list index out of range\n",
      "[1, 1, 1, 1, 0, 0, 0, 0, 2, 0]\n",
      "[0, 0, 0, 2, 0, 1, 1, 1, 1, 0] [None, 0, 0, 1, 2, 3, 4, 5, 6, 7, 8, 8, 9, None]\n",
      "[0, 1, 1, 1, 1, 0, 0, 0, 0, 2, 0] [None, 0, 1, 2, 3, 4, 4, 5, 6, 7, 8, 9, 10, 11, None]\n",
      "Error in 11\n",
      "list index out of range\n",
      "[0, 1, 1, 1, 1, 0, 0, 0, 0, 2, 0]\n",
      "[0, 0, 0, 2, 0, 0, 1, 1, 1, 1, 0] [None, 0, 0, 1, 2, 3, 4, 5, 6, 7, 8, 9, 9, 10, None]\n",
      "[0, 0, 2, 2, 0, 1, 1, 1, 1, 0] [None, 0, 0, 1, 2, 2, 3, 4, 5, 6, 7, 8, 8, 9, None]\n",
      "[0, 0, 0, 0, 0, 0, 2, 0, 1, 1, 1, 1, 0] [None, 0, 1, 2, 3, 4, 5, 6, 7, 8, 9, 10, 11, 11, 12, None]\n",
      "[1, 1, 1, 1, 0, 0, 0, 0, 2, 0] [None, 0, 1, 2, 3, 3, 4, 5, 5, 6, 7, 8, 9, None]\n",
      "[1, 1, 1, 1, 0, 0, 0, 0, 0, 2, 0] [None, 0, 1, 2, 3, 3, 4, 5, 6, 7, 8, 9, 10, None]\n",
      "[1, 1, 1, 1, 0, 0, 0, 2, 0] [None, 0, 1, 2, 3, 3, 4, 5, 6, 7, 8, 9, None]\n",
      "Error in 9\n",
      "list index out of range\n",
      "[1, 1, 1, 1, 0, 0, 0, 2, 0]\n",
      "[0, 0, 0, 2, 0, 0, 0, 1, 1, 1, 1, 0] [None, 0, 0, 1, 2, 3, 4, 5, 6, 7, 8, 9, 10, 10, 11, None]\n",
      "[0, 0, 2, 0, 1, 1, 1, 1, 0] [None, 0, 0, 1, 2, 3, 4, 5, 6, 7, 7, 8, None]\n",
      "[0, 0, 0, 0, 0, 0, 2, 0, 1, 1, 1, 1, 0] [None, 0, 1, 2, 3, 4, 5, 6, 7, 8, 9, 10, 11, 11, 12, None]\n",
      "[0, 0, 0, 2, 0, 0, 1, 1, 1, 1, 0] [None, 0, 0, 1, 2, 3, 4, 5, 6, 7, 8, 9, 9, 10, None]\n",
      "[1, 1, 1, 1, 0, 0, 0, 2, 0] [None, 0, 1, 2, 3, 3, 4, 5, 5, 6, 7, 8, None]\n",
      "[1, 1, 1, 1, 0, 0, 0, 0, 2, 0] [None, 0, 1, 2, 3, 3, 4, 5, 6, 7, 8, 9, 10, None]\n",
      "Error in 10\n",
      "list index out of range\n",
      "[1, 1, 1, 1, 0, 0, 0, 0, 2, 0]\n",
      "[0, 0, 0, 2, 0, 0, 1, 1, 1, 1, 0] [None, 0, 0, 1, 2, 3, 4, 5, 6, 7, 8, 9, 9, 10, None]\n",
      "[0, 1, 1, 1, 1, 0, 0, 0, 0, 0, 2, 2, 0] [None, 0, 1, 2, 3, 4, 4, 5, 6, 7, 8, 9, 10, 11, 12, None]\n",
      "[1, 1, 1, 1, 0, 0, 0, 2, 0] [None, 0, 1, 2, 3, 3, 4, 5, 6, 7, 8, 9, None]\n",
      "Error in 9\n",
      "list index out of range\n",
      "[1, 1, 1, 1, 0, 0, 0, 2, 0]\n",
      "[0, 0, 0, 2, 2, 0, 1, 1, 1, 1, 0] [None, 0, 0, 1, 2, 3, 4, 5, 6, 7, 8, 9, 9, 10, None]\n",
      "[0, 0, 0, 2, 0, 1, 1, 1, 1, 0] [None, 0, 0, 1, 2, 3, 4, 5, 6, 7, 8, 8, 9, None]\n",
      "[1, 1, 1, 1, 0, 0, 0, 0, 2, 2, 0] [None, 0, 1, 2, 3, 3, 4, 5, 6, 7, 8, 9, 10, 11, None]\n",
      "Error in 11\n",
      "list index out of range\n",
      "[1, 1, 1, 1, 0, 0, 0, 0, 2, 2, 0]\n",
      "[0, 0, 0, 2, 0, 0, 1, 1, 1, 1, 0] [None, 0, 0, 1, 2, 3, 4, 5, 6, 7, 8, 9, 9, 10, None]\n",
      "[1, 1, 1, 1, 0, 0, 0, 2, 0] [None, 0, 1, 2, 3, 3, 4, 5, 5, 6, 7, 8, None]\n",
      "[0, 0, 0, 0, 0, 0, 2, 2, 0, 1, 1, 1, 1, 0] [None, 0, 1, 2, 3, 4, 5, 6, 7, 8, 9, 10, 11, 12, 12, 13, None]\n",
      "[1, 1, 1, 1, 0, 0, 0, 2, 0] [None, 0, 1, 2, 3, 3, 4, 5, 5, 6, 7, 8, 9, None]\n",
      "Error in 9\n",
      "list index out of range\n",
      "[1, 1, 1, 1, 0, 0, 0, 2, 0]\n",
      "[1, 1, 1, 1, 0, 0, 0, 0, 2, 0] [None, 0, 1, 2, 3, 3, 4, 5, 6, 7, 8, 9, None]\n",
      "[1, 1, 1, 1, 0, 0, 0, 0, 2, 0] [None, 0, 1, 2, 3, 3, 4, 5, 6, 7, 8, 9, 9, 10, 11, None]\n",
      "Error in 10\n",
      "list index out of range\n",
      "[1, 1, 1, 1, 0, 0, 0, 0, 2, 0]\n",
      "Error in 11\n",
      "list index out of range\n",
      "[1, 1, 1, 1, 0, 0, 0, 0, 2, 0]\n",
      "[0, 0, 0, 2, 0, 0, 1, 1, 1, 1, 0] [None, 0, 0, 1, 2, 3, 4, 5, 6, 7, 8, 9, 9, 10, None]\n",
      "[0, 0, 2, 2, 0, 1, 1, 1, 1, 0] [None, 0, 0, 1, 2, 3, 4, 5, 6, 7, 8, 8, 9, None]\n",
      "[0, 0, 0, 2, 0, 1, 1, 1, 1, 0] [None, 0, 1, 2, 3, 4, 5, 6, 7, 8, 8, 9, None]\n",
      "[0, 0, 0, 2, 0, 0, 1, 1, 1, 1, 0] [None, 0, 0, 1, 2, 3, 4, 5, 6, 7, 8, 9, 9, 10, None]\n",
      "[1, 1, 1, 1, 0, 0, 0, 2, 0, 2, 0] [None, 0, 1, 2, 3, 3, 4, 5, 5, 6, 7, 8, 9, 10, None]\n",
      "[1, 1, 1, 1, 0, 0, 0, 0, 0, 2, 0] [None, 0, 1, 2, 3, 3, 4, 5, 6, 7, 8, 9, 10, 10, 10, 11, None]\n",
      "Error in 11\n",
      "list index out of range\n",
      "[1, 1, 1, 1, 0, 0, 0, 0, 0, 2, 0]\n",
      "[0, 1, 1, 1, 1, 0, 0, 0, 0, 0, 0, 2, 0] [None, 0, 1, 2, 3, 4, 4, 5, 6, 7, 8, 9, 10, 11, 12, None]\n",
      "[0, 0, 0, 0, 0, 0, 2, 2, 0, 1, 1, 1, 1, 0] [None, 0, 1, 2, 3, 4, 5, 6, 7, 8, 9, 10, 11, 12, 13, 13, 14, None]\n",
      "Error in 14\n",
      "list index out of range\n",
      "[0, 0, 0, 0, 0, 0, 2, 2, 0, 1, 1, 1, 1, 0]\n",
      "[0, 0, 0, 2, 0, 0, 0, 1, 1, 1, 1, 0] [None, 0, 0, 1, 2, 3, 4, 5, 6, 7, 8, 9, 10, 10, 11, None]\n",
      "[1, 1, 1, 1, 0, 0, 0, 0, 0, 0, 2, 2, 0] [None, 0, 1, 2, 3, 3, 4, 5, 6, 7, 8, 9, 10, 11, 12, None]\n",
      "[0, 0, 0, 2, 0, 0, 0, 1, 1, 1, 1, 0] [None, 0, 1, 2, 3, 4, 5, 6, 7, 8, 9, 10, 10, 11, None]\n",
      "[1, 1, 1, 1, 0, 0, 0, 0, 0, 2, 2, 0] [None, 0, 1, 2, 3, 3, 4, 5, 5, 6, 7, 8, 9, 10, 11, None]\n",
      "[0, 0, 0, 2, 0, 1, 1, 1, 1, 0] [None, 0, 0, 1, 2, 3, 4, 5, 6, 7, 8, 8, 9, None]\n",
      "[0, 0, 0, 0, 0, 0, 2, 0, 1, 1, 1, 1, 0] [None, 0, 1, 2, 3, 4, 5, 6, 7, 8, 9, 10, 11, 11, 12, None]\n",
      "[1, 1, 1, 1, 0, 0, 0, 0, 2, 0] [None, 0, 1, 2, 3, 3, 4, 5, 6, 7, 8, 9, 10, None]\n",
      "Error in 10\n",
      "list index out of range\n",
      "[1, 1, 1, 1, 0, 0, 0, 0, 2, 0]\n",
      "[1, 1, 1, 1, 0, 0, 0, 0, 0, 2, 2, 0] [None, 0, 1, 2, 3, 3, 4, 5, 6, 7, 8, 9, 10, 11, None]\n",
      "[0, 1, 1, 1, 1, 0, 0, 0, 0, 2, 0, 2, 0] [None, 0, 1, 2, 3, 4, 4, 5, 6, 7, 8, 9, 10, 11, 12, 13, None]\n",
      "Error in 13\n",
      "list index out of range\n",
      "[0, 1, 1, 1, 1, 0, 0, 0, 0, 2, 0, 2, 0]\n",
      "[0, 0, 0, 2, 0, 0, 0, 1, 1, 1, 1, 0] [None, 0, 0, 1, 2, 3, 4, 5, 6, 7, 8, 9, 10, 10, 11, None]\n",
      "[1, 1, 1, 1, 0, 0, 0, 2, 0, 2, 0] [None, 0, 1, 2, 3, 3, 4, 5, 5, 6, 7, 8, 9, 10, None]\n",
      "[1, 1, 1, 1, 0, 0, 0, 0, 0, 2, 2, 0] [None, 0, 1, 2, 3, 3, 4, 5, 6, 7, 8, 9, 10, 11, 12, None]\n",
      "Error in 12\n",
      "list index out of range\n",
      "[1, 1, 1, 1, 0, 0, 0, 0, 0, 2, 2, 0]\n",
      "[0, 0, 0, 2, 0, 0, 1, 1, 1, 1, 0] [None, 0, 0, 1, 2, 3, 4, 5, 6, 7, 8, 9, 9, 10, None]\n",
      "[0, 0, 2, 0, 1, 1, 1, 1, 0] [None, 0, 0, 1, 2, 3, 4, 5, 6, 7, 7, 8, None]\n",
      "[1, 1, 1, 1, 0, 0, 0, 0, 2, 2, 0] [None, 0, 1, 2, 3, 3, 4, 5, 6, 7, 8, 9, 10, 11, None]\n",
      "Error in 11\n",
      "list index out of range\n",
      "[1, 1, 1, 1, 0, 0, 0, 0, 2, 2, 0]\n",
      "[1, 1, 1, 1, 0, 0, 0, 0, 2, 0] [None, 0, 1, 2, 3, 3, 4, 5, 5, 6, 7, 8, 9, None]\n",
      "[1, 1, 1, 1, 0, 0, 0, 2, 0, 2, 0] [None, 0, 1, 2, 3, 3, 4, 5, 5, 6, 7, 8, 9, 10, None]\n",
      "[1, 1, 1, 1, 0, 0, 0, 0, 2, 0] [None, 0, 1, 2, 3, 3, 4, 5, 6, 7, 8, 9, 10, None]\n",
      "Error in 10\n",
      "list index out of range\n",
      "[1, 1, 1, 1, 0, 0, 0, 0, 2, 0]\n",
      "[0, 0, 0, 0, 0, 0, 0, 2, 0, 2, 0, 0, 0, 0, 1, 0] [None, 0, 1, 2, 3, 4, 5, 6, 7, 8, 9, 10, 11, 12, 13, 14, 15, None]\n",
      "[0, 0, 0, 0, 0, 0, 0, 2, 0, 0, 0, 1, 1, 0] [None, 0, 1, 2, 3, 4, 5, 6, 7, 8, 9, 10, 11, 12, 13, None]\n",
      "[0, 0, 0, 0, 0, 0, 2, 0, 1, 1, 0] [None, 0, 1, 2, 3, 4, 5, 6, 7, 8, 9, 10, None]\n",
      "[0, 0, 0, 0, 0, 0, 2, 0, 0, 0, 1, 0] [None, 0, 0, 1, 2, 3, 4, 5, 6, 7, 8, 9, 10, 11, None]\n",
      "[0, 0, 0, 0, 0, 0, 2, 0, 0, 0, 0, 0, 1, 1, 0] [None, 0, 1, 2, 3, 4, 5, 6, 7, 8, 9, 10, 11, 12, 13, 14, 15, None]\n",
      "Error in 15\n",
      "list index out of range\n",
      "[0, 0, 0, 0, 0, 0, 2, 0, 0, 0, 0, 0, 1, 1, 0]\n",
      "[0, 0, 0, 0, 0, 0, 2, 0, 0, 1, 0] [None, 0, 1, 2, 3, 4, 5, 6, 7, 8, 9, None]\n",
      "[0, 0, 0, 0, 0, 0, 2, 0, 2, 0, 0, 0, 1, 1, 0] [None, 0, 1, 2, 3, 4, 5, 6, 7, 8, 9, 10, 11, 12, 13, None]\n",
      "[0, 0, 0, 0, 0, 0, 2, 0, 0, 1, 0] [None, 0, 1, 2, 3, 4, 5, 6, 7, 8, 9, 10, 11, None]\n",
      "Error in 11\n",
      "list index out of range\n",
      "[0, 0, 0, 0, 0, 0, 2, 0, 0, 1, 0]\n",
      "[0, 0, 0, 0, 0, 0, 2, 0, 0, 0, 0, 1, 1, 0] [None, 0, 1, 2, 3, 4, 5, 6, 7, 8, 9, 10, 11, 12, 13, None]\n",
      "[0, 0, 0, 0, 0, 0, 2, 0, 2, 0, 0, 0, 0, 1, 1, 0] [None, 0, 1, 2, 3, 4, 5, 6, 7, 8, 9, 10, 11, 12, 13, 14, None]\n",
      "[0, 0, 0, 0, 2, 0, 0, 0, 1, 0] [None, 0, 0, 1, 2, 3, 4, 5, 6, 7, 8, 9, None]\n",
      "[0, 0, 0, 0, 0, 0, 2, 0, 0, 1, 0] [None, 0, 1, 2, 3, 4, 5, 6, 7, 8, 9, 10, 11, None]\n",
      "Error in 11\n",
      "list index out of range\n",
      "[0, 0, 0, 0, 0, 0, 2, 0, 0, 1, 0]\n",
      "[0, 0, 0, 0, 2, 0, 2, 0, 0, 0, 0, 1, 1, 0] [None, 0, 1, 2, 3, 4, 5, 6, 7, 8, 9, 10, 11, 12, None]\n",
      "[0, 0, 0, 0, 2, 2, 0, 0, 0, 1, 1, 0] [None, 0, 1, 2, 3, 4, 5, 5, 5, 6, 7, 8, 9, 10, 11, 12, None]\n",
      "Error in 12\n",
      "list index out of range\n",
      "[0, 0, 0, 0, 2, 2, 0, 0, 0, 1, 1, 0]\n",
      "[0, 0, 0, 0, 0, 0, 2, 0, 1, 1, 0] [None, 0, 1, 2, 3, 4, 5, 6, 7, 8, 9, 10, 11, None]\n",
      "Error in 11\n",
      "list index out of range\n",
      "[0, 0, 0, 0, 0, 0, 2, 0, 1, 1, 0]\n",
      "[0, 0, 0, 0, 2, 0, 2, 0, 0, 0, 1, 0] [None, 0, 0, 1, 2, 3, 4, 5, 6, 7, 8, 9, 10, 11, None]\n",
      "[0, 0, 0, 0, 2, 2, 0, 0, 1, 0] [None, 0, 1, 2, 3, 4, 5, 6, 7, 8, 9, 10, None]\n",
      "Error in 10\n",
      "list index out of range\n",
      "[0, 0, 0, 0, 2, 2, 0, 0, 1, 0]\n",
      "[0, 0, 0, 0, 0, 0, 2, 0, 0, 1, 0] [None, 0, 1, 2, 3, 4, 5, 6, 7, 8, 9, 10, 11, None]\n",
      "Error in 11\n",
      "list index out of range\n",
      "[0, 0, 0, 0, 0, 0, 2, 0, 0, 1, 0]\n",
      "[0, 0, 0, 0, 0, 0, 2, 0, 2, 2, 0, 0, 0, 1, 0] [None, 0, 1, 2, 3, 4, 5, 6, 7, 8, 9, 10, 11, 12, 13, 14, None]\n",
      "[0, 0, 0, 0, 2, 2, 0, 0, 1, 0] [None, 0, 1, 2, 3, 4, 5, 5, 6, 7, 8, 9, 10, None]\n",
      "Error in 10\n",
      "list index out of range\n",
      "[0, 0, 0, 0, 2, 2, 0, 0, 1, 0]\n",
      "[0, 0, 0, 0, 0, 0, 2, 0, 0, 1, 0] [None, 0, 1, 2, 3, 4, 5, 6, 7, 8, 9, 10, None]\n",
      "[0, 0, 0, 0, 2, 2, 0, 2, 0, 0, 0, 1, 1, 0] [None, 0, 1, 2, 3, 4, 5, 6, 7, 8, 9, 10, 11, 12, 13, 14, None]\n",
      "Error in 14\n",
      "list index out of range\n",
      "[0, 0, 0, 0, 2, 2, 0, 2, 0, 0, 0, 1, 1, 0]\n",
      "[0, 0, 0, 0, 2, 0, 1, 1, 0] [None, 0, 0, 1, 2, 3, 4, 5, 6, 7, 8, None]\n"
     ]
    }
   ],
   "source": [
    "# Load tokenizer\n",
    "tokenizer = RobertaTokenizerFast.from_pretrained('roberta-base', add_prefix_space=True, use_cache=True, cache_dir=\"/p/project/training2411/kumar\")\n",
    "\n",
    "# Function to tokenize and align labels\n",
    "def tokenize_and_align_labels(examples, label_all_tokens=True):\n",
    "    tokenized_inputs = tokenizer(examples[\"tokens\"], truncation=True, is_split_into_words=True)\n",
    "    labels = []\n",
    "    for i, label in enumerate(examples[\"ner_tags\"]):\n",
    "        word_ids = tokenized_inputs.word_ids(batch_index=i)\n",
    "        print(label, word_ids)\n",
    "        previous_word_idx = None\n",
    "        label_ids = []\n",
    "        for word_idx in word_ids:\n",
    "            try:\n",
    "                if word_idx is None:\n",
    "                    label_ids.append(-100)\n",
    "                elif word_idx != previous_word_idx:\n",
    "                    label_ids.append(label[word_idx])\n",
    "                else:\n",
    "                    label_ids.append(label[word_idx] if label_all_tokens else -100)\n",
    "                previous_word_idx = word_idx  # Update previous_word_idx inside the loop\n",
    "            except Exception as e:  # Use Exception instead of error\n",
    "                print(f\"Error in {word_idx}\")\n",
    "                print(e)\n",
    "                print(f\"{label}\")\n",
    "                continue\n",
    "        labels.append(label_ids)\n",
    "    tokenized_inputs[\"labels\"] = labels\n",
    "    return tokenized_inputs\n",
    "\n",
    "tokenized_datasets = data.map(tokenize_and_align_labels, batched=True, batch_size=128)\n",
    "data_collator = DataCollatorForTokenClassification(tokenizer)"
   ]
  },
  {
   "cell_type": "code",
   "execution_count": 13,
   "id": "f0399160-e78c-4ea1-a121-40d4163c2755",
   "metadata": {},
   "outputs": [
    {
     "data": {
      "text/plain": [
       "{'tokens': ['Burn',\n",
       "  'scars',\n",
       "  'in',\n",
       "  'Oregon',\n",
       "  ',',\n",
       "  'noted',\n",
       "  'on',\n",
       "  'April',\n",
       "  '17',\n",
       "  ',',\n",
       "  '2023',\n",
       "  '.'],\n",
       " 'ner_tags': [0, 0, 0, 2, 0, 0, 0, 1, 1, 1, 1, 0],\n",
       " 'input_ids': [0,\n",
       "  7960,\n",
       "  26172,\n",
       "  11,\n",
       "  4316,\n",
       "  2156,\n",
       "  1581,\n",
       "  15,\n",
       "  587,\n",
       "  601,\n",
       "  2156,\n",
       "  291,\n",
       "  1922,\n",
       "  479,\n",
       "  2],\n",
       " 'attention_mask': [1, 1, 1, 1, 1, 1, 1, 1, 1, 1, 1, 1, 1, 1, 1],\n",
       " 'labels': [-100, 0, 0, 0, 2, 0, 0, 0, 1, 1, 1, 1, 1, 0, -100]}"
      ]
     },
     "execution_count": 13,
     "metadata": {},
     "output_type": "execute_result"
    }
   ],
   "source": [
    "tokenized_datasets[1]"
   ]
  },
  {
   "cell_type": "code",
   "execution_count": 14,
   "id": "ace9dbb2-2485-431a-8f3c-fc61f24043b3",
   "metadata": {},
   "outputs": [
    {
     "name": "stderr",
     "output_type": "stream",
     "text": [
      "Some weights of RobertaForTokenClassification were not initialized from the model checkpoint at roberta-base and are newly initialized: ['classifier.bias', 'classifier.weight']\n",
      "You should probably TRAIN this model on a down-stream task to be able to use it for predictions and inference.\n"
     ]
    }
   ],
   "source": [
    "from transformers import RobertaForTokenClassification, Trainer, TrainingArguments\n",
    "\n",
    "model = RobertaForTokenClassification.from_pretrained(\n",
    "    'roberta-base',\n",
    "    use_cache=True,\n",
    "    cache_dir=\"/p/project/training2411/kumar\",\n",
    "    num_labels=len(unique_labels) # This should match your total number of NER tags\n",
    ")\n"
   ]
  },
  {
   "cell_type": "code",
   "execution_count": 18,
   "id": "61b17512-5dc1-4158-9ea6-4012523df45a",
   "metadata": {},
   "outputs": [
    {
     "name": "stderr",
     "output_type": "stream",
     "text": [
      "huggingface/tokenizers: The current process just got forked, after parallelism has already been used. Disabling parallelism to avoid deadlocks...\n",
      "To disable this warning, you can either:\n",
      "\t- Avoid using `tokenizers` before the fork if possible\n",
      "\t- Explicitly set the environment variable TOKENIZERS_PARALLELISM=(true | false)\n",
      "Detected kernel version 4.18.0, which is below the recommended minimum of 5.5.0; this can cause the process to hang. It is recommended to upgrade the kernel to the minimum version or higher.\n"
     ]
    },
    {
     "data": {
      "text/html": [
       "\n",
       "    <div>\n",
       "      \n",
       "      <progress value='130' max='130' style='width:300px; height:20px; vertical-align: middle;'></progress>\n",
       "      [130/130 00:11, Epoch 10/10]\n",
       "    </div>\n",
       "    <table border=\"1\" class=\"dataframe\">\n",
       "  <thead>\n",
       " <tr style=\"text-align: left;\">\n",
       "      <th>Epoch</th>\n",
       "      <th>Training Loss</th>\n",
       "      <th>Validation Loss</th>\n",
       "    </tr>\n",
       "  </thead>\n",
       "  <tbody>\n",
       "    <tr>\n",
       "      <td>1</td>\n",
       "      <td>No log</td>\n",
       "      <td>0.051451</td>\n",
       "    </tr>\n",
       "    <tr>\n",
       "      <td>2</td>\n",
       "      <td>No log</td>\n",
       "      <td>0.231514</td>\n",
       "    </tr>\n",
       "    <tr>\n",
       "      <td>3</td>\n",
       "      <td>No log</td>\n",
       "      <td>0.031607</td>\n",
       "    </tr>\n",
       "    <tr>\n",
       "      <td>4</td>\n",
       "      <td>No log</td>\n",
       "      <td>0.042400</td>\n",
       "    </tr>\n",
       "    <tr>\n",
       "      <td>5</td>\n",
       "      <td>No log</td>\n",
       "      <td>0.037117</td>\n",
       "    </tr>\n",
       "    <tr>\n",
       "      <td>6</td>\n",
       "      <td>No log</td>\n",
       "      <td>0.022357</td>\n",
       "    </tr>\n",
       "    <tr>\n",
       "      <td>7</td>\n",
       "      <td>No log</td>\n",
       "      <td>0.015271</td>\n",
       "    </tr>\n",
       "    <tr>\n",
       "      <td>8</td>\n",
       "      <td>No log</td>\n",
       "      <td>0.010495</td>\n",
       "    </tr>\n",
       "    <tr>\n",
       "      <td>9</td>\n",
       "      <td>No log</td>\n",
       "      <td>0.006297</td>\n",
       "    </tr>\n",
       "    <tr>\n",
       "      <td>10</td>\n",
       "      <td>No log</td>\n",
       "      <td>0.005953</td>\n",
       "    </tr>\n",
       "  </tbody>\n",
       "</table><p>"
      ],
      "text/plain": [
       "<IPython.core.display.HTML object>"
      ]
     },
     "metadata": {},
     "output_type": "display_data"
    },
    {
     "data": {
      "text/plain": [
       "TrainOutput(global_step=130, training_loss=0.0453031246478741, metrics={'train_runtime': 11.4361, 'train_samples_per_second': 86.568, 'train_steps_per_second': 11.367, 'total_flos': 8461600380360.0, 'train_loss': 0.0453031246478741, 'epoch': 10.0})"
      ]
     },
     "execution_count": 18,
     "metadata": {},
     "output_type": "execute_result"
    }
   ],
   "source": [
    "training_args = TrainingArguments(\n",
    "    output_dir='./results',          # Output directory\n",
    "    evaluation_strategy=\"epoch\",     # Evaluation is done at the end of each epoch\n",
    "    learning_rate=2e-4,\n",
    "    num_train_epochs=10,\n",
    "    weight_decay=0.01,\n",
    ")\n",
    "\n",
    "trainer = Trainer(\n",
    "    model=model,\n",
    "    args=training_args,\n",
    "    train_dataset=tokenized_datasets,  # Assuming you have a train split\n",
    "    eval_dataset=tokenized_datasets,  # Assuming you have a train split\n",
    "    data_collator = data_collator\n",
    ")\n",
    "\n",
    "trainer.train()\n"
   ]
  },
  {
   "cell_type": "code",
   "execution_count": 19,
   "id": "a429170d-b19b-4d38-8581-ba441dea4399",
   "metadata": {},
   "outputs": [
    {
     "data": {
      "text/plain": [
       "('./finetuned_roberta_ner/tokenizer_config.json',\n",
       " './finetuned_roberta_ner/special_tokens_map.json',\n",
       " './finetuned_roberta_ner/vocab.json',\n",
       " './finetuned_roberta_ner/merges.txt',\n",
       " './finetuned_roberta_ner/added_tokens.json',\n",
       " './finetuned_roberta_ner/tokenizer.json')"
      ]
     },
     "execution_count": 19,
     "metadata": {},
     "output_type": "execute_result"
    }
   ],
   "source": [
    "model.save_pretrained('./finetuned_roberta_ner')\n",
    "tokenizer.save_pretrained('./finetuned_roberta_ner')\n"
   ]
  },
  {
   "cell_type": "code",
   "execution_count": 21,
   "id": "ba939e5e-4cf5-452e-9bd0-0434aad6e94d",
   "metadata": {},
   "outputs": [
    {
     "name": "stdout",
     "output_type": "stream",
     "text": [
      "{'input_ids': tensor([[    0,   230,  6884,  3505,    11,  2809, 17373,   179,   883,   587,\n",
      "             6,   291,  1922,     4,     2]]), 'attention_mask': tensor([[1, 1, 1, 1, 1, 1, 1, 1, 1, 1, 1, 1, 1, 1, 1]])}\n",
      "input_ids tensor([[    0,   230,  6884,  3505,    11,  2809, 17373,   179,   883,   587,\n",
      "             6,   291,  1922,     4,     2]])\n",
      "attention_mask tensor([[1, 1, 1, 1, 1, 1, 1, 1, 1, 1, 1, 1, 1, 1, 1]])\n"
     ]
    }
   ],
   "source": [
    "text = \"Crop types in Spain durin 23 April, 2023.\"\n",
    "inputs = tokenizer(text, return_tensors=\"pt\", truncation=True, max_length=512)\n",
    "print(inputs)\n",
    "for k, v in inputs.items():\n",
    "    print(k, v)"
   ]
  },
  {
   "cell_type": "code",
   "execution_count": 22,
   "id": "23e09d3b-d18b-42c9-b2c3-4a995a62fe66",
   "metadata": {},
   "outputs": [],
   "source": [
    "from transformers import pipeline\n",
    "\n",
    "ner_pipeline = pipeline(\"ner\", model=model, tokenizer=tokenizer)\n",
    "\n"
   ]
  },
  {
   "cell_type": "code",
   "execution_count": 70,
   "id": "c098df6b-3ded-44f9-a523-88b246452609",
   "metadata": {},
   "outputs": [],
   "source": [
    "text = \"Crop types in Spain as of yesterday.\"\n",
    "ner_classes = ner_pipeline(text)"
   ]
  },
  {
   "cell_type": "code",
   "execution_count": 80,
   "id": "4877b1d3-d16c-4228-acbe-b5c6851a4a71",
   "metadata": {},
   "outputs": [
    {
     "data": {
      "text/plain": [
       "[{'entity': 'LABEL_0',\n",
       "  'score': 0.99953103,\n",
       "  'index': 1,\n",
       "  'word': 'ĠC',\n",
       "  'start': 0,\n",
       "  'end': 1},\n",
       " {'entity': 'LABEL_0',\n",
       "  'score': 0.9995999,\n",
       "  'index': 2,\n",
       "  'word': 'rop',\n",
       "  'start': 1,\n",
       "  'end': 4},\n",
       " {'entity': 'LABEL_0',\n",
       "  'score': 0.9996145,\n",
       "  'index': 3,\n",
       "  'word': 'Ġtypes',\n",
       "  'start': 5,\n",
       "  'end': 10},\n",
       " {'entity': 'LABEL_0',\n",
       "  'score': 0.9985916,\n",
       "  'index': 4,\n",
       "  'word': 'Ġin',\n",
       "  'start': 11,\n",
       "  'end': 13},\n",
       " {'entity': 'LABEL_2',\n",
       "  'score': 0.9999062,\n",
       "  'index': 5,\n",
       "  'word': 'ĠSpain',\n",
       "  'start': 14,\n",
       "  'end': 19},\n",
       " {'entity': 'LABEL_0',\n",
       "  'score': 0.9990376,\n",
       "  'index': 6,\n",
       "  'word': 'Ġas',\n",
       "  'start': 20,\n",
       "  'end': 22},\n",
       " {'entity': 'LABEL_0',\n",
       "  'score': 0.9990075,\n",
       "  'index': 7,\n",
       "  'word': 'Ġof',\n",
       "  'start': 23,\n",
       "  'end': 25},\n",
       " {'entity': 'LABEL_0',\n",
       "  'score': 0.9964805,\n",
       "  'index': 8,\n",
       "  'word': 'Ġyesterday',\n",
       "  'start': 26,\n",
       "  'end': 35},\n",
       " {'entity': 'LABEL_0',\n",
       "  'score': 0.8945812,\n",
       "  'index': 9,\n",
       "  'word': '.',\n",
       "  'start': 35,\n",
       "  'end': 36}]"
      ]
     },
     "execution_count": 80,
     "metadata": {},
     "output_type": "execute_result"
    }
   ],
   "source": [
    "ner_classes"
   ]
  },
  {
   "cell_type": "code",
   "execution_count": 81,
   "id": "d1d48c11-870d-4ee1-8b76-18e6ccddb21a",
   "metadata": {},
   "outputs": [
    {
     "name": "stdout",
     "output_type": "stream",
     "text": [
      "{'LOCATION': 'Spain'}\n"
     ]
    }
   ],
   "source": [
    "def ner_to_dict(ner_result):\n",
    "    result = dict()\n",
    "    for item in ner_result:\n",
    "        if item['entity'] in [\"LABEL_1\", \"LABEL_2\"]:\n",
    "            if item['entity'] in result.keys():\n",
    "                result[item['entity']] += item['word']\n",
    "            else:\n",
    "                result[item['entity']] = \"\"\n",
    "                result[item['entity']] += item['word']\n",
    "    old_keys = list(result.keys())\n",
    "    \n",
    "    for key in old_keys:\n",
    "        new_key = unique_labels[int(key[-1])]\n",
    "        result[new_key] = result[key]\n",
    "        del result[key]\n",
    "    \n",
    "    for key, val in result.items():\n",
    "        result[key] = val.replace('Ġ', ' ')[1:]\n",
    "\n",
    "    return result\n",
    "\n",
    "print(ner_to_dict(ner_classes))"
   ]
  },
  {
   "cell_type": "code",
   "execution_count": 82,
   "id": "f365933b-96c1-4bee-8516-e74b9bd5e18f",
   "metadata": {},
   "outputs": [
    {
     "data": {
      "text/plain": [
       "{'LOCATION': 'Spain', 'DATE': '23 April, 2023'}"
      ]
     },
     "execution_count": 82,
     "metadata": {},
     "output_type": "execute_result"
    }
   ],
   "source": [
    "result"
   ]
  },
  {
   "cell_type": "code",
   "execution_count": null,
   "id": "a0296834-1ac3-44a8-8de4-8ad59462ea3d",
   "metadata": {},
   "outputs": [],
   "source": []
  }
 ],
 "metadata": {
  "kernelspec": {
   "display_name": "Python 3 (ipykernel)",
   "language": "python",
   "name": "python3"
  },
  "language_info": {
   "codemirror_mode": {
    "name": "ipython",
    "version": 3
   },
   "file_extension": ".py",
   "mimetype": "text/x-python",
   "name": "python",
   "nbconvert_exporter": "python",
   "pygments_lexer": "ipython3",
   "version": "3.9.19"
  }
 },
 "nbformat": 4,
 "nbformat_minor": 5
}
