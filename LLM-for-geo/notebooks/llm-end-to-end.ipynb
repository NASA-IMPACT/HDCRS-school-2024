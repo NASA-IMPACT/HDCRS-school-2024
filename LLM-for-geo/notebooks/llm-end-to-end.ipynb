{
 "cells": [
  {
   "cell_type": "code",
   "execution_count": null,
   "id": "ca3f7c9e-57f6-4101-b820-05102bc8b447",
   "metadata": {},
   "outputs": [],
   "source": [
    "# Import all required packages.\n",
    "import datetime\n",
    "import json\n",
    "import sagemaker\n",
    "\n",
    "from ipyleaflet import Map, TileLayer, DrawControl, GeoJSON\n",
    "from sagemaker import Model\n",
    "import requests"
   ]
  },
  {
   "cell_type": "code",
   "execution_count": 1,
   "id": "97f0f3d8",
   "metadata": {},
   "outputs": [
    {
     "data": {
      "text/plain": [
       "'2024-06-05'"
      ]
     },
     "execution_count": 1,
     "metadata": {},
     "output_type": "execute_result"
    }
   ],
   "source": [
    "date = datetime.datetime.now().strftime('%Y-%m-%d')\n",
    "\n",
    "date"
   ]
  },
  {
   "cell_type": "code",
   "execution_count": 78,
   "id": "6ade94d1-c453-41dc-bd4c-f112b5148933",
   "metadata": {},
   "outputs": [],
   "source": [
    "# Set constants\n",
    "\n",
    "BUCKET_NAME = <bucket_name> # Please update this\n",
    "OPENCAGE_API_KEY = <opencage api key> # please update this\n",
    "\n",
    "ECR_IMAGE = '637423382292.dkr.ecr.us-west-2.amazonaws.com/llm_test:latest'\n",
    "NLP_URL = 'https://pnpegu7dupvjvt6alt2yo5nmyi0hgtmj.lambda-url.us-west-2.on.aws/'\n",
    "ZOOM_LEVEL = 8\n",
    "\n",
    "# update date with the output of date\n",
    "PROMPT = \"\"\"Today's date is <date>. you are given a string with information of an event with time and location. if you can't determine either the time or the location from the query, prepare the error message. you should extract the information from the given text in json format as shown:\n",
    "{{\"datetime\": \"\", \"location\": \"\", \"error\": \"\"}}\n",
    "\n",
    "here's the text: {{text}}\n",
    "json:\n",
    "\"\"\""
   ]
  },
  {
   "cell_type": "code",
   "execution_count": null,
   "id": "2e2b2e63",
   "metadata": {},
   "outputs": [],
   "source": [
    "# set runtime client for code execution, and define permissions\n",
    "sm = sagemaker.Session().sagemaker_runtime_client\n",
    "sagemaker_role = sagemaker.get_execution_role()"
   ]
  },
  {
   "cell_type": "code",
   "execution_count": null,
   "id": "f4f3d9b6-c607-40a6-8993-25ba4ba4f32a",
   "metadata": {},
   "outputs": [
    {
     "name": "stderr",
     "output_type": "stream",
     "text": [
      "Using already existing model: debug-v2\n"
     ]
    },
    {
     "name": "stdout",
     "output_type": "stream",
     "text": [
      "----"
     ]
    }
   ],
   "source": [
    "# Define name of the model\n",
    "model_name = <identifier> # Please update this.\n",
    "\n",
    "# Create model based on the ECR_IMAGE and sagemaker role for proper permissions to download files and configuration files.\n",
    "\n",
    "model = sagemaker.model.Model(\n",
    "        name=model_name, \n",
    "        image_uri=ECR_IMAGE,\n",
    "        role=sagemaker_role,\n",
    "        env={\n",
    "            'PROMPT': PROMPT, \n",
    "            'OPENCAGE_API_KEY': OPENCAGE_API_KEY, \n",
    "            'BUCKET_NAME': BUCKET_NAME, \n",
    "            'LORA_FILENAME': f'{model_name}-adapter_model.safetensors',\n",
    "            'LORA_CONFIG': f'{model_name}-adapter_config.json'\n",
    "        }\n",
    "    )\n",
    "model.create()\n",
    "\n",
    "endpoint = model.deploy(\n",
    "    initial_instance_count=1, \n",
    "    instance_type='ml.p3.2xlarge', \n",
    "    endpoint_name=model_name, \n",
    "    volume_size=50, \n",
    "    container_startup_health_check_timeout=600\n",
    ")"
   ]
  },
  {
   "cell_type": "code",
   "execution_count": 136,
   "id": "a8aee08d-bb29-475d-bd76-23fb4ce3138d",
   "metadata": {},
   "outputs": [
    {
     "data": {
      "text/plain": [
       "b'{\"models\":\"\\\\n{\\\\n  \\\\\"datetime\\\\\": \\\\\"2024-05-30T00:00:00+00:00\\\\\",\\\\n  \\\\\"location\\\\\": \\\\\"London, UK\\\\\"\\\\n}\"}'"
      ]
     },
     "execution_count": 136,
     "metadata": {},
     "output_type": "execute_result"
    }
   ],
   "source": [
    "query = \"Show me fire scars in maui from august 13, 2023\"\n",
    "response = sm.invoke_endpoint(\n",
    "    EndpointName=model_name,\n",
    "    Body=query,\n",
    "    ContentType=\"application/json\"\n",
    ")\n",
    "\n",
    "json.loads(response['Body'].read())"
   ]
  },
  {
   "cell_type": "code",
   "execution_count": null,
   "id": "fdb5052b",
   "metadata": {},
   "outputs": [],
   "source": [
    "import requests\n",
    "import json\n",
    "\n",
    "# prepare payload for quering using llm and getting responses\n",
    "\n",
    "query = <update this> # \"show me burn scars at maui from august 13, 2023\"\n",
    "\n",
    "payload = json.dumps({\n",
    "  \"query\": query,\n",
    "  \"config_path\": <your config file path from s3>,\n",
    "  \"model_path\": <your model file path from s3>,\n",
    "  \"model_type\": \"burn_scars\",\n",
    "  \"inference_url\": <your inference url>,\n",
    "  \"endpoint_name\": model_name\n",
    "})\n",
    "\n",
    "headers = {\n",
    "  'Content-Type': 'application/json'\n",
    "}\n",
    "\n",
    "# Use deployed app to get inference on the selected date/location\n",
    "response = requests.request(\n",
    "      \"POST\", \n",
    "      NLP_URL, \n",
    "      headers=headers, \n",
    "      data=payload\n",
    "  )\n",
    "\n",
    "predictions = response.json()\n",
    "\n",
    "predictions"
   ]
  },
  {
   "cell_type": "code",
   "execution_count": null,
   "id": "18ef22f6",
   "metadata": {},
   "outputs": [],
   "source": [
    "# Setup tile layers to be displayed\n",
    "\n",
    "datestring = f\"{predictions['datetime']}T00:00:00\"\n",
    "\n",
    "HLSL30_TILE_LAYER = 'https://gitc-a.earthdata.nasa.gov/wmts/epsg3857/best/wmts.cgi?TIME=' + datestring + '&layer=HLS_L30_Nadir_BRDF_Adjusted_Reflectance&style=default&tilematrixset=GoogleMapsCompatible_Level12&Service=WMTS&Request=GetTile&Version=1.0.0&Format=image%2Fpng&TileMatrix={z}&TileCol={x}&TileRow={y}'\n",
    "HLSS30_TILE_LAYER = 'https://gitc-a.earthdata.nasa.gov/wmts/epsg3857/best/wmts.cgi?TIME=' + datestring + '&layer=HLS_S30_Nadir_BRDF_Adjusted_Reflectance&style=default&tilematrixset=GoogleMapsCompatible_Level12&Service=WMTS&Request=GetTile&Version=1.0.0&Format=image%2Fpng&TileMatrix={z}&TileCol={x}&TileRow={y}'"
   ]
  },
  {
   "cell_type": "code",
   "execution_count": null,
   "id": "c9e17eeb",
   "metadata": {},
   "outputs": [],
   "source": [
    "# Identify the central latitude and longitude of the detections\n",
    "center_lat = sum(predictions['bounding_box'][1::2]) / 2\n",
    "center_lon = sum(predictions['bounding_box'][0::2]) / 2\n",
    "\n",
    "# Setup layers for map\n",
    "hlsl30_tile_layer = TileLayer(url=HLSL30_TILE_LAYER, name='HLSL30', attribution='NASA')\n",
    "hlss30_tile_layer = TileLayer(url=HLSS30_TILE_LAYER, name='HLSL30', attribution='NASA')\n",
    "\n",
    "# Instantiate map\n",
    "detection_map = Map(\n",
    "        center=(center_lat, center_lon), \n",
    "        ZOOM_LEVEL, \n",
    "    )\n",
    "detection_map.add(hlsl30_tile_layer)\n",
    "detection_map.add(hlss30_tile_layer)\n",
    "detection_map.add(GeoJSON(data=predictions['geojson']))\n",
    "\n",
    "detection_map"
   ]
  },
  {
   "cell_type": "code",
   "execution_count": 137,
   "id": "03b99c39-da9b-405b-8ca7-69aa2ef33d6f",
   "metadata": {},
   "outputs": [],
   "source": [
    "# Delete all resources after it is used to reduce cost.\n",
    "\n",
    "model.delete_model()\n",
    "\n",
    "sess = sagemaker.Session()\n",
    "sess.delete_endpoint_config(model_name)\n",
    "sess.delete_endpoint(model_name)"
   ]
  }
 ],
 "metadata": {
  "kernelspec": {
   "display_name": "Python 3.9.12 ('base')",
   "language": "python",
   "name": "python3"
  },
  "language_info": {
   "codemirror_mode": {
    "name": "ipython",
    "version": 3
   },
   "file_extension": ".py",
   "mimetype": "text/x-python",
   "name": "python",
   "nbconvert_exporter": "python",
   "pygments_lexer": "ipython3",
   "version": "3.9.12"
  },
  "vscode": {
   "interpreter": {
    "hash": "8987afb44532b2110e1a5e1b229dd281f8440b44477d285826a54acdd52d8797"
   }
  }
 },
 "nbformat": 4,
 "nbformat_minor": 5
}
