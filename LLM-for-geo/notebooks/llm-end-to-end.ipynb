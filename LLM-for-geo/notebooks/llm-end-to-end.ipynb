{
 "cells": [
  {
   "cell_type": "code",
   "execution_count": null,
   "id": "ca3f7c9e-57f6-4101-b820-05102bc8b447",
   "metadata": {},
   "outputs": [],
   "source": [
    "import sagemaker\n",
    "from sagemaker import Model\n",
    "from sagemaker.serverless import ServerlessInferenceConfig"
   ]
  },
  {
   "cell_type": "code",
   "execution_count": 78,
   "id": "6ade94d1-c453-41dc-bd4c-f112b5148933",
   "metadata": {},
   "outputs": [],
   "source": [
    "import json\n",
    "import sagemaker\n",
    "ECR_IMAGE = \"637423382292.dkr.ecr.us-west-2.amazonaws.com/llm_test:latest\"\n",
    "\n",
    "sm = sagemaker.Session().sagemaker_runtime_client\n",
    "sagemaker_role = sagemaker.get_execution_role()"
   ]
  },
  {
   "cell_type": "code",
   "execution_count": null,
   "id": "f4f3d9b6-c607-40a6-8993-25ba4ba4f32a",
   "metadata": {},
   "outputs": [
    {
     "name": "stderr",
     "output_type": "stream",
     "text": [
      "Using already existing model: debug-v2\n"
     ]
    },
    {
     "name": "stdout",
     "output_type": "stream",
     "text": [
      "----"
     ]
    }
   ],
   "source": [
    "BUCKET_NAME = 'workhsop-llama-weights'\n",
    "model_name = 'debug-v2'\n",
    "model = sagemaker.model.Model(\n",
    "        name=model_name, \n",
    "        image_uri='637423382292.dkr.ecr.us-west-2.amazonaws.com/llm_test:latest',\n",
    "        role=sagemaker_role,\n",
    "        env={'BUCKET_NAME': BUCKET_NAME, 'LORA_FILENAME': 'lora_tensors.safetensors'}\n",
    "    )\n",
    "model.create()\n",
    "\n",
    "endpoint = model.deploy(initial_instance_count=1, instance_type='ml.p3.2xlarge', endpoint_name=model_name, volume_size=50, container_startup_health_check_timeout=600)"
   ]
  },
  {
   "cell_type": "code",
   "execution_count": 136,
   "id": "a8aee08d-bb29-475d-bd76-23fb4ce3138d",
   "metadata": {},
   "outputs": [
    {
     "data": {
      "text/plain": [
       "b'{\"models\":\"\\\\n{\\\\n  \\\\\"datetime\\\\\": \\\\\"2024-05-30T00:00:00+00:00\\\\\",\\\\n  \\\\\"location\\\\\": \\\\\"London, UK\\\\\"\\\\n}\"}'"
      ]
     },
     "execution_count": 136,
     "metadata": {},
     "output_type": "execute_result"
    }
   ],
   "source": [
    "response = sm.invoke_endpoint(\n",
    "    EndpointName=model_name,\n",
    "    Body=json.dumps({'query': 'show me fire scars in maui from august 13, 2023', 'content': 'hello world'}).encode(encoding=\"UTF-8\"),\n",
    "    ContentType=\"application/json\"\n",
    ")\n",
    "\n",
    "response['Body'].read()"
   ]
  },
  {
   "cell_type": "code",
   "execution_count": 70,
   "id": "5877885c-9f14-490e-b45f-1fc2bace7b1a",
   "metadata": {},
   "outputs": [],
   "source": [
    "import sagemaker as sage\n",
    "from time import gmtime, strftime\n",
    "\n",
    "sess = sage.Session()"
   ]
  },
  {
   "cell_type": "code",
   "execution_count": 137,
   "id": "03b99c39-da9b-405b-8ca7-69aa2ef33d6f",
   "metadata": {},
   "outputs": [],
   "source": [
    "model.delete_model()\n",
    "sess.delete_endpoint_config(model_name)\n",
    "sess.delete_endpoint(model_name)"
   ]
  },
  {
   "cell_type": "code",
   "execution_count": 104,
   "id": "7a9e8913-b081-4d5a-a785-95dbe6b33942",
   "metadata": {},
   "outputs": [],
   "source": []
  },
  {
   "cell_type": "code",
   "execution_count": null,
   "id": "53508ebc-30e9-4315-9b1a-8c289383a437",
   "metadata": {},
   "outputs": [],
   "source": []
  }
 ],
 "metadata": {
  "kernelspec": {
   "display_name": "Python 3 (ipykernel)",
   "language": "python",
   "name": "python3"
  },
  "language_info": {
   "codemirror_mode": {
    "name": "ipython",
    "version": 3
   },
   "file_extension": ".py",
   "mimetype": "text/x-python",
   "name": "python",
   "nbconvert_exporter": "python",
   "pygments_lexer": "ipython3",
   "version": "3.10.14"
  }
 },
 "nbformat": 4,
 "nbformat_minor": 5
}
